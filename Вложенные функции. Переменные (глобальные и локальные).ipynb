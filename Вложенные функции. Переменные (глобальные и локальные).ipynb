{
  "nbformat": 4,
  "nbformat_minor": 0,
  "metadata": {
    "colab": {
      "provenance": [],
      "authorship_tag": "ABX9TyPVbqCxefTdDwO0kTBrCFCu",
      "include_colab_link": true
    },
    "kernelspec": {
      "name": "python3",
      "display_name": "Python 3"
    },
    "language_info": {
      "name": "python"
    }
  },
  "cells": [
    {
      "cell_type": "markdown",
      "metadata": {
        "id": "view-in-github",
        "colab_type": "text"
      },
      "source": [
        "<a href=\"https://colab.research.google.com/github/Ellana555/Skillfactory/blob/main/%D0%92%D0%BB%D0%BE%D0%B6%D0%B5%D0%BD%D0%BD%D1%8B%D0%B5%20%D1%84%D1%83%D0%BD%D0%BA%D1%86%D0%B8%D0%B8.%20%D0%9F%D0%B5%D1%80%D0%B5%D0%BC%D0%B5%D0%BD%D0%BD%D1%8B%D0%B5%20(%D0%B3%D0%BB%D0%BE%D0%B1%D0%B0%D0%BB%D1%8C%D0%BD%D1%8B%D0%B5%20%D0%B8%20%D0%BB%D0%BE%D0%BA%D0%B0%D0%BB%D1%8C%D0%BD%D1%8B%D0%B5).ipynb\" target=\"_parent\"><img src=\"https://colab.research.google.com/assets/colab-badge.svg\" alt=\"Open In Colab\"/></a>"
      ]
    },
    {
      "cell_type": "markdown",
      "source": [
        "Вложенные функции"
      ],
      "metadata": {
        "id": "KFeA1_RT9jEf"
      }
    },
    {
      "cell_type": "code",
      "execution_count": 1,
      "metadata": {
        "id": "bDPAVWSl8j_m"
      },
      "outputs": [],
      "source": [
        "# Объявляем внешнюю функцию outer()\n",
        "def outer():\n",
        "    # Печатаем информацию о вызове внешней функции\n",
        "    print('Called outer function')\n",
        "    # Объявляем внутреннюю функцию innouter()\n",
        "    def inner():\n",
        "        # Печатаем информацию о вызове внутренней функции\n",
        "        print('Called inner function')\n",
        "    # Вызываем внутреннюю функцию inner()\n",
        "    inner()"
      ]
    },
    {
      "cell_type": "markdown",
      "source": [],
      "metadata": {
        "id": "_Fd3YgSaOnif"
      }
    },
    {
      "cell_type": "code",
      "source": [
        "outer()"
      ],
      "metadata": {
        "colab": {
          "base_uri": "https://localhost:8080/"
        },
        "id": "s9AnCsv68whp",
        "outputId": "4c2be84f-6791-47c7-ce53-9992e76de3d9"
      },
      "execution_count": 2,
      "outputs": [
        {
          "output_type": "stream",
          "name": "stdout",
          "text": [
            "Called outer function\n",
            "Called inner function\n"
          ]
        }
      ]
    },
    {
      "cell_type": "code",
      "source": [
        "# Задаём функцию для вычисления корня степени n из числа value\n",
        "def root(value, n=2):\n",
        "    # Вычисляем корень степени n из числа value\n",
        "    result = value ** (1/n)\n",
        "    # Возвращаем результат из функции\n",
        "    return result"
      ],
      "metadata": {
        "id": "zeAyl556AWoO"
      },
      "execution_count": 3,
      "outputs": []
    },
    {
      "cell_type": "code",
      "source": [
        "res = root(81, 4)\n",
        "print(res)"
      ],
      "metadata": {
        "colab": {
          "base_uri": "https://localhost:8080/"
        },
        "id": "wmjXNqh5AZw2",
        "outputId": "04fcf07c-937c-4c1c-a212-8371400cfeb2"
      },
      "execution_count": 4,
      "outputs": [
        {
          "output_type": "stream",
          "name": "stdout",
          "text": [
            "3.0\n"
          ]
        }
      ]
    },
    {
      "cell_type": "code",
      "source": [
        "res = root(81)\n",
        "print(res)"
      ],
      "metadata": {
        "colab": {
          "base_uri": "https://localhost:8080/"
        },
        "id": "2HC75jLsAplo",
        "outputId": "579f3329-57ad-4c26-eb6d-c52c52d802c2"
      },
      "execution_count": 5,
      "outputs": [
        {
          "output_type": "stream",
          "name": "stdout",
          "text": [
            "9.0\n"
          ]
        }
      ]
    },
    {
      "cell_type": "code",
      "source": [
        "\"Root of power <n> from <value> equals <res>\""
      ],
      "metadata": {
        "colab": {
          "base_uri": "https://localhost:8080/",
          "height": 35
        },
        "id": "5HJjhuQnBrOi",
        "outputId": "4f11d476-5759-4ca2-fb47-6b43efc76514"
      },
      "execution_count": 6,
      "outputs": [
        {
          "output_type": "execute_result",
          "data": {
            "text/plain": [
              "'Root of power <n> from <value> equals <res>'"
            ],
            "application/vnd.google.colaboratory.intrinsic+json": {
              "type": "string"
            }
          },
          "metadata": {},
          "execution_count": 6
        }
      ]
    },
    {
      "cell_type": "code",
      "source": [
        "# Задаём внешнюю функцию\n",
        "def print_root(value, n=2):\n",
        "    # Задаём внутреннюю функцию\n",
        "    # Она будет являться вспомогательной\n",
        "    def root(value, n=2):\n",
        "        result = value ** (1/n)\n",
        "        return result\n",
        "    # Получаем результат из внутренней функции\n",
        "    res = root(value, n)\n",
        "    # Печатаем результат и не возвращаем его\n",
        "    print(f'Root of power {n} from {value} equals {res}')\n"
      ],
      "metadata": {
        "id": "N5uMB9x8B1Ab"
      },
      "execution_count": 7,
      "outputs": []
    },
    {
      "cell_type": "code",
      "source": [
        "print_root(81, 4)"
      ],
      "metadata": {
        "colab": {
          "base_uri": "https://localhost:8080/"
        },
        "id": "UQ5U2U0FDsmN",
        "outputId": "6c49fb2d-8678-4ab4-9b90-a8d5507ee6cb"
      },
      "execution_count": 8,
      "outputs": [
        {
          "output_type": "stream",
          "name": "stdout",
          "text": [
            "Root of power 4 from 81 equals 3.0\n"
          ]
        }
      ]
    },
    {
      "cell_type": "code",
      "source": [
        "print(root(81, 4))"
      ],
      "metadata": {
        "colab": {
          "base_uri": "https://localhost:8080/"
        },
        "id": "UoUOjA3HJsOd",
        "outputId": "ba90c4fb-2cec-4300-afed-7290dc9793c9"
      },
      "execution_count": 9,
      "outputs": [
        {
          "output_type": "stream",
          "name": "stdout",
          "text": [
            "3.0\n"
          ]
        }
      ]
    },
    {
      "cell_type": "code",
      "source": [
        "def min_of_cubes(x, y):\n",
        "    def cube(a):\n",
        "        result = a**3\n",
        "        return result\n",
        "    return min(cube(x), cube(y))\n"
      ],
      "metadata": {
        "id": "zCXOS0lVKP9U"
      },
      "execution_count": 10,
      "outputs": []
    },
    {
      "cell_type": "code",
      "source": [
        "print(min_of_cubes(x=5, y=3))"
      ],
      "metadata": {
        "colab": {
          "base_uri": "https://localhost:8080/"
        },
        "id": "RFXt8a74K2lw",
        "outputId": "578e8bde-07d8-4e52-ea53-81c1c54172d2"
      },
      "execution_count": 11,
      "outputs": [
        {
          "output_type": "stream",
          "name": "stdout",
          "text": [
            "27\n"
          ]
        }
      ]
    },
    {
      "cell_type": "code",
      "source": [
        "print(cube(a=5))"
      ],
      "metadata": {
        "colab": {
          "base_uri": "https://localhost:8080/",
          "height": 165
        },
        "id": "RtMac9gdLHBt",
        "outputId": "c416ce56-d0ac-4483-9c69-f0a7de0ffa47"
      },
      "execution_count": 12,
      "outputs": [
        {
          "output_type": "error",
          "ename": "NameError",
          "evalue": "ignored",
          "traceback": [
            "\u001b[0;31m---------------------------------------------------------------------------\u001b[0m",
            "\u001b[0;31mNameError\u001b[0m                                 Traceback (most recent call last)",
            "\u001b[0;32m<ipython-input-12-83c16515f106>\u001b[0m in \u001b[0;36m<module>\u001b[0;34m\u001b[0m\n\u001b[0;32m----> 1\u001b[0;31m \u001b[0mprint\u001b[0m\u001b[0;34m(\u001b[0m\u001b[0mcube\u001b[0m\u001b[0;34m(\u001b[0m\u001b[0ma\u001b[0m\u001b[0;34m=\u001b[0m\u001b[0;36m5\u001b[0m\u001b[0;34m)\u001b[0m\u001b[0;34m)\u001b[0m\u001b[0;34m\u001b[0m\u001b[0;34m\u001b[0m\u001b[0m\n\u001b[0m",
            "\u001b[0;31mNameError\u001b[0m: name 'cube' is not defined"
          ]
        }
      ]
    },
    {
      "cell_type": "code",
      "source": [
        "def get_count_unique_symbols(s):\n",
        "    s = s.lower()\n",
        "    s = s.replace(\" \",\"\")\n",
        "    s = set(s)\n",
        "    return len(s)"
      ],
      "metadata": {
        "id": "NG2mmGbiLVca"
      },
      "execution_count": 13,
      "outputs": []
    },
    {
      "cell_type": "code",
      "source": [
        "get_count_unique_symbols('Это простая строка')"
      ],
      "metadata": {
        "colab": {
          "base_uri": "https://localhost:8080/"
        },
        "id": "1PiU1GpVL8g5",
        "outputId": "ec4bd9d8-4b77-45eb-a719-57771e9cc353"
      },
      "execution_count": null,
      "outputs": [
        {
          "output_type": "execute_result",
          "data": {
            "text/plain": [
              "9"
            ]
          },
          "metadata": {},
          "execution_count": 55
        }
      ]
    },
    {
      "cell_type": "code",
      "source": [
        "def get_min_string(s1, s2):\n",
        "    def get_count_unique_symbols(s):\n",
        "        s = s.lower()\n",
        "        s = s.replace(\" \",\"\")\n",
        "        s = set(s)\n",
        "        return len(s)\n",
        "    if get_count_unique_symbols(s1) > get_count_unique_symbols(s2):\n",
        "        return s2\n",
        "    elif get_count_unique_symbols(s1) == get_count_unique_symbols(s2):\n",
        "        return (s1,s2)\n",
        "    else: \n",
        "        return s1"
      ],
      "metadata": {
        "id": "UKDJjrIpN9WK"
      },
      "execution_count": 14,
      "outputs": []
    },
    {
      "cell_type": "code",
      "source": [
        "print(get_min_string(s1='Это простая строка', s2='This is a simple string'))"
      ],
      "metadata": {
        "colab": {
          "base_uri": "https://localhost:8080/"
        },
        "id": "aosNIHZzOaxi",
        "outputId": "f003db8a-1681-4229-b561-3fdc03b96937"
      },
      "execution_count": 15,
      "outputs": [
        {
          "output_type": "stream",
          "name": "stdout",
          "text": [
            "Это простая строка\n"
          ]
        }
      ]
    },
    {
      "cell_type": "code",
      "source": [
        "print(get_min_string(s1='школа', s2='school'))"
      ],
      "metadata": {
        "colab": {
          "base_uri": "https://localhost:8080/"
        },
        "id": "ASI80r5WPti_",
        "outputId": "148b8471-b3e0-4d6d-feb5-00e6d44be291"
      },
      "execution_count": 16,
      "outputs": [
        {
          "output_type": "stream",
          "name": "stdout",
          "text": [
            "('школа', 'school')\n"
          ]
        }
      ]
    },
    {
      "cell_type": "code",
      "source": [
        "# Объявляем внешнюю функцию для регистрации сотрудников\n",
        "def register_employee(name, surname):\n",
        "    # Объявляем функцию для промежуточных вычислений\n",
        "    def create_full_name():\n",
        "        # Функция использует внешние переменные name и surname\n",
        "        sep = ' ' # Разделитель между именем и фамилией\n",
        "        result = name + sep + surname # Вычисляем полное имя\n",
        "        return result\n",
        "    # Вызываем внутреннюю функцию\n",
        "    full_name = create_full_name()\n",
        "    # Выводим результат на экран, используя внешнюю переменную company_name\n",
        "    print('Employee {} is registered with the company {}'.format(full_name, company_name))\n",
        "    \n",
        "company_name = 'TheBlindMice' # Название компании\n",
        "register_employee('John','Doe') # Вызов функции\n",
        "\n",
        "## Будет выведено\n",
        "## Employee John Doe is registered with the company TheBlindMice"
      ],
      "metadata": {
        "colab": {
          "base_uri": "https://localhost:8080/"
        },
        "id": "bqqzcnEwQaF8",
        "outputId": "2855f3e1-1f21-4c94-cd7f-884e1ebebe4d"
      },
      "execution_count": 17,
      "outputs": [
        {
          "output_type": "stream",
          "name": "stdout",
          "text": [
            "Employee John Doe is registered with the company TheBlindMice\n"
          ]
        }
      ]
    },
    {
      "cell_type": "code",
      "source": [
        "# Задаём общее количество студентов\n",
        "num_students = 250\n",
        "# Объявляем функцию для вычисления количества вебинаров\n",
        "# Параметр max_participants — максимальное количество участников\n",
        "def get_num_webinars(max_participants):\n",
        "    # Число вебинаров — количество студентов, нацело делённое на количество участников\n",
        "    num_webinars = num_students // max_participants\n",
        "    # Если при делении присутствует остаток\n",
        "    if (num_students % max_participants > 0):\n",
        "        # Добавляем ещё один вебинар для оставшихся студентов\n",
        "        num_webinars += 1\n",
        "    # Возвращаем количество вебинаров\n",
        "    return num_webinars\n",
        "\n",
        "# Вызываем функцию с максимальным количеством участников 15\n",
        "webinars = get_num_webinars(max_participants=15)"
      ],
      "metadata": {
        "id": "BK4RAy2ORV91"
      },
      "execution_count": 18,
      "outputs": []
    },
    {
      "cell_type": "code",
      "source": [
        "x = 'Hello'\n",
        "def func():\n",
        "    x = 'goodbye'\n",
        "    def nested():\n",
        "        print(x)\n",
        "    nested()\n",
        "func()"
      ],
      "metadata": {
        "colab": {
          "base_uri": "https://localhost:8080/"
        },
        "id": "8lhLbHwSTwVq",
        "outputId": "c0f33191-1112-482b-9de5-453a2a1ed083"
      },
      "execution_count": 19,
      "outputs": [
        {
          "output_type": "stream",
          "name": "stdout",
          "text": [
            "goodbye\n"
          ]
        }
      ]
    },
    {
      "cell_type": "code",
      "source": [
        "pi = 3.1416\n",
        "def calculate_area_circle(r):\n",
        "    area = pi * (r ** 2)\n",
        "    return area\n",
        "def calculate_area_ellipse(a,b):\n",
        "    area = pi * a * b\n",
        "    return area"
      ],
      "metadata": {
        "id": "ZRjcfVQWUgMn"
      },
      "execution_count": 20,
      "outputs": []
    },
    {
      "cell_type": "code",
      "source": [
        "print(calculate_area_circle(5))"
      ],
      "metadata": {
        "colab": {
          "base_uri": "https://localhost:8080/"
        },
        "id": "_u9uGXYZVpyS",
        "outputId": "95be2470-73af-42cc-fc80-48dcdf61738b"
      },
      "execution_count": 21,
      "outputs": [
        {
          "output_type": "stream",
          "name": "stdout",
          "text": [
            "78.53999999999999\n"
          ]
        }
      ]
    },
    {
      "cell_type": "markdown",
      "source": [],
      "metadata": {
        "id": "x0myiLidLrRn"
      }
    },
    {
      "cell_type": "code",
      "source": [
        "# Объявляем глобальную переменную\n",
        "count = 10\n",
        "def function():\n",
        "    # Объявляем локальную переменную count\n",
        "    count = 100\n",
        "# Вызываем функцию    \n",
        "function()\n",
        "# Смотрим, изменилась ли переменная count\n",
        "print(count)\n",
        "\n",
        "## Будет выведено:\n",
        "## 10"
      ],
      "metadata": {
        "colab": {
          "base_uri": "https://localhost:8080/"
        },
        "id": "NY18JtLPZf_9",
        "outputId": "2194337b-7d6e-46d2-8e78-f054f8096fcc"
      },
      "execution_count": 23,
      "outputs": [
        {
          "output_type": "stream",
          "name": "stdout",
          "text": [
            "10\n"
          ]
        }
      ]
    },
    {
      "cell_type": "code",
      "source": [
        "# Объявляем глобальную переменную\n",
        "words_list = ['foo', 'bar', 'baz']\n",
        "def function():\n",
        "    # Изменяем элемент списка\n",
        "    words_list[1] = 'quux'\n",
        "# Вызываем функцию\n",
        "function()\n",
        "print(words_list)\n",
        "\n",
        "## Будет выведено:\n",
        "## ['foo', 'quux', 'baz'] так как изменяемый тип"
      ],
      "metadata": {
        "colab": {
          "base_uri": "https://localhost:8080/"
        },
        "id": "Rrk5Q2btZys3",
        "outputId": "da690807-ecdb-4e7a-84c8-62c446cba458"
      },
      "execution_count": 24,
      "outputs": [
        {
          "output_type": "stream",
          "name": "stdout",
          "text": [
            "['foo', 'quux', 'baz']\n"
          ]
        }
      ]
    },
    {
      "cell_type": "code",
      "source": [
        "# Объявляем глобальную переменную\n",
        "words_list = ['foo', 'bar', 'baz']\n",
        "def function():\n",
        "    # Изменяем элемент списка\n",
        "    words_list = ['foo', 'quux', 'baz']\n",
        "# Вызываем функцию\n",
        "function()\n",
        "print(words_list)\n",
        "\n",
        "## Будет выведено:\n",
        "## ['foo', 'bar', 'baz'] не поменял"
      ],
      "metadata": {
        "colab": {
          "base_uri": "https://localhost:8080/"
        },
        "id": "TAGOJiTraC0n",
        "outputId": "dc224cf1-ae77-4a7b-8729-156d765756e9"
      },
      "execution_count": 25,
      "outputs": [
        {
          "output_type": "stream",
          "name": "stdout",
          "text": [
            "['foo', 'bar', 'baz']\n"
          ]
        }
      ]
    },
    {
      "cell_type": "markdown",
      "source": [
        "Глобальные переменные"
      ],
      "metadata": {
        "id": "r5GwiQKdaT6H"
      }
    },
    {
      "cell_type": "code",
      "source": [
        "# Создадим глобальную переменную, изначально она равна 0\n",
        "global_count = 0\n",
        " \n",
        "# Создадим функцию, которая прибавляет 1 к переменной global_count\n",
        "def add_item():\n",
        "    # Здесь мог бы быть код для добавления товара в базу данных\n",
        "    \n",
        "    # Укажем, что global_count является глобальной переменной\n",
        "    global global_count \n",
        "    # Увеличим общее количество товаров на 1\n",
        "    global_count = global_count + 1\n",
        " \n",
        "# Вызовем функцию add_item()\n",
        "add_item()\n",
        "# Напечатаем значение переменной global_count\n",
        "print(global_count)"
      ],
      "metadata": {
        "colab": {
          "base_uri": "https://localhost:8080/"
        },
        "id": "1Ax89dJ2aXC5",
        "outputId": "1be3b075-48c5-42a6-d181-29f9b940c41d"
      },
      "execution_count": 26,
      "outputs": [
        {
          "output_type": "stream",
          "name": "stdout",
          "text": [
            "1\n"
          ]
        }
      ]
    },
    {
      "cell_type": "code",
      "source": [
        "# Создаём функцию, которая прибавляет 1 к переменной global_counter\n",
        "def add_item():\n",
        "    # Здесь мог бы быть код для добавления товара в базу данных\n",
        "    # Указываем, что global_count является глобальной переменной\n",
        "    global global_count\n",
        "    # Инициализируем глобальную переменную прямо внутри функции \n",
        "    global_count = 0\n",
        "    # Увеличиваем общее количество товаров на 1\n",
        "    global_count = global_count + 1\n",
        "\n",
        "# Вызываем функцию add_item()\n",
        "add_item()\n",
        "# Напечатаем значение переменной global_count\n",
        "print(global_count)\n",
        "\n",
        "\n",
        "## Будет выведено:\n",
        "## 1"
      ],
      "metadata": {
        "colab": {
          "base_uri": "https://localhost:8080/"
        },
        "id": "hr2hnhbGa_bx",
        "outputId": "a21c2420-39bd-40a6-eb72-67c7dbce3ff2"
      },
      "execution_count": 27,
      "outputs": [
        {
          "output_type": "stream",
          "name": "stdout",
          "text": [
            "1\n"
          ]
        }
      ]
    },
    {
      "cell_type": "code",
      "source": [
        "# Вызовем функцию add_item() ещё раз\n",
        "add_item()\n",
        "# Напечатаем значение переменной global_count\n",
        "print(global_count)\n",
        "\n",
        "\n",
        "## Будет выведено:\n",
        "## 1"
      ],
      "metadata": {
        "colab": {
          "base_uri": "https://localhost:8080/"
        },
        "id": "mv9mdLZvbWA9",
        "outputId": "5d60cbe9-9048-4b0c-955b-3f9c2a549a1d"
      },
      "execution_count": 28,
      "outputs": [
        {
          "output_type": "stream",
          "name": "stdout",
          "text": [
            "1\n"
          ]
        }
      ]
    },
    {
      "cell_type": "markdown",
      "source": [
        "Глобальными переменными лучше не пользоваться!!!\n",
        "\n"
      ],
      "metadata": {
        "id": "lPCSsoVBbuv4"
      }
    },
    {
      "cell_type": "code",
      "source": [
        "def cash(less_money):\n",
        "   global money\n",
        "   money -= less_money\n",
        "   return money"
      ],
      "metadata": {
        "id": "ZccPlp8Bb4yj"
      },
      "execution_count": 29,
      "outputs": []
    },
    {
      "cell_type": "code",
      "source": [
        "money = 30240\n",
        "print(cash(240))"
      ],
      "metadata": {
        "colab": {
          "base_uri": "https://localhost:8080/"
        },
        "id": "rlN-Ng9Scsg-",
        "outputId": "b4320e2a-c48a-4479-df37-b07dd37cc79e"
      },
      "execution_count": 30,
      "outputs": [
        {
          "output_type": "stream",
          "name": "stdout",
          "text": [
            "30000\n"
          ]
        }
      ]
    },
    {
      "cell_type": "code",
      "source": [
        "def convert(currencies, money, valuta):\n",
        "    convert_money = money/currencies[valuta]\n",
        "    return convert_money\n",
        "currencies = {'USD': 74, 'EUR': 88, 'GBP': 98 , 'CHF': 82}\n",
        "print(convert(currencies, 10000, 'USD'))"
      ],
      "metadata": {
        "colab": {
          "base_uri": "https://localhost:8080/"
        },
        "id": "jn_pp7ohdPGe",
        "outputId": "5f9238bc-450b-49f4-e5be-5bbe5506cab9"
      },
      "execution_count": 31,
      "outputs": [
        {
          "output_type": "stream",
          "name": "stdout",
          "text": [
            "135.13513513513513\n"
          ]
        }
      ]
    },
    {
      "cell_type": "code",
      "source": [
        "# Словарь с курсами валют (по отношению к рублю)\n",
        "currencies = {'USD': 74, 'EUR': 88, 'GBP': 98 , 'CHF': 82}\n",
        "# Общее количество денег на счету, которое нужно конвертировать\n",
        "money = 100000\n",
        "# Функция для конвертации валюты, аргумент - наименование валюты\n",
        "def convert(currency):\n",
        "    # Объявляем, что money - глобальная переменная\n",
        "    global money\n",
        "    # Производим конвертацию - делим количество денег на счету на соответствующий курс\n",
        "    money = money / currencies[currency]\n",
        "\n",
        "# Вызываем функцию для конвертации валюты\n",
        "print(convert('USD'))"
      ],
      "metadata": {
        "colab": {
          "base_uri": "https://localhost:8080/"
        },
        "id": "mpCmmDEQs_Al",
        "outputId": "dea4ca63-a909-4b3b-9822-4891a5826a60"
      },
      "execution_count": 32,
      "outputs": [
        {
          "output_type": "stream",
          "name": "stdout",
          "text": [
            "None\n"
          ]
        }
      ]
    },
    {
      "cell_type": "markdown",
      "source": [
        "Изменение значений нелокальных переменных. NONLOCAL\n"
      ],
      "metadata": {
        "id": "oumzG3OHs849"
      }
    },
    {
      "cell_type": "code",
      "source": [],
      "metadata": {
        "id": "d9wq__A4zdGg"
      },
      "execution_count": 32,
      "outputs": []
    },
    {
      "cell_type": "code",
      "source": [
        "def total_multiplier(n):\n",
        "    total = 0\n",
        "    def multiplier():\n",
        "        nonlocal total \n",
        "        product = 10 * n\n",
        "        total += product\n",
        "        return total\n",
        "    return multiplier()"
      ],
      "metadata": {
        "id": "Ezn6UTL4u2S9"
      },
      "execution_count": 33,
      "outputs": []
    },
    {
      "cell_type": "code",
      "source": [
        "# Функция для вычисления количества символов (symbol) в строке s\n",
        "def count_occurrences(s, symbol):\n",
        "    # Внутренняя функция для предобработки строки s\n",
        "    def preprocessing_s():\n",
        "        # Удаляем пробелы из строки\n",
        "        nonlocal s\n",
        "        s = s.replace(' ', '')\n",
        "        # Приводим строку к нижнему регистру\n",
        "        s = s.lower()\n",
        "    # Вызываем функцию для предобработки аргумента s\n",
        "    preprocessing_s()\n",
        "    # Считаем количество символов symbol в строке s и возвращаем результат\n",
        "    return s.count(symbol)\n",
        "count_occurrences('This is simple string', symbol='t')"
      ],
      "metadata": {
        "colab": {
          "base_uri": "https://localhost:8080/"
        },
        "id": "rQnts1O0vvdo",
        "outputId": "43185363-383d-41d2-bd95-5ec0341b10c4"
      },
      "execution_count": 34,
      "outputs": [
        {
          "output_type": "execute_result",
          "data": {
            "text/plain": [
              "2"
            ]
          },
          "metadata": {},
          "execution_count": 34
        }
      ]
    },
    {
      "cell_type": "code",
      "source": [
        "advertising_campaigns = {'ютуб': [212, 248], 'вк': [514, 342], 'радио': [339, 125]}"
      ],
      "metadata": {
        "id": "sc-wENkCxA6e"
      },
      "execution_count": 35,
      "outputs": []
    },
    {
      "cell_type": "code",
      "source": [
        "inner_counter = 0\n",
        " \n",
        "def outer_function(value, x):\n",
        "    global_counter = value\n",
        " \n",
        "    def inner_function(x):\n",
        "        global inner_counter\n",
        "        nonlocal global_counter\n",
        "        inner_counter += 1\n",
        "        global_counter += 1\n",
        "        result = x + inner_counter + global_counter\n",
        "        return result\n",
        " \n",
        "    return inner_function(x)\n",
        "local_result = outer_function(value=3, x=4)"
      ],
      "metadata": {
        "id": "s9vL3Z29O86a"
      },
      "execution_count": 36,
      "outputs": []
    },
    {
      "cell_type": "code",
      "source": [
        "# Внешняя функция для обработки списка из строк\n",
        "def processing_list(answers):\n",
        "    # Внутренняя функция для выполнения обработки одного элемента списка\n",
        "    def preprocessing_answer(answer):\n",
        "        # Приводим к нижнему регистру\n",
        "        answer = answer.lower()\n",
        "        # Удаляем стоп-символы \n",
        "        stop_symbols = '\"#$%&\\'()*+,-./:;<=>?@[\\\\]^_`{|}~!'\n",
        "        # Создаём цикл по символам в строке\n",
        "        for sym in stop_symbols:\n",
        "            # Если стоп-символ есть в строке answer\n",
        "            if sym in answer:\n",
        "                # Заменяем стоп-символы в строке на пустые строки\n",
        "                answer = answer.replace(sym, '')\n",
        "        return answer\n",
        "    # Создаём пустой список, куда будем добавлять результаты\n",
        "    result = []\n",
        "    # Создаеё цикл по всем элементам списка\n",
        "    for answer in answers:\n",
        "         # Добавляем предобработанную строку в лог-список\n",
        "        result.append(preprocessing_answer(answer))  \n",
        "    return result\n"
      ],
      "metadata": {
        "id": "wjO5SIy1PsXH"
      },
      "execution_count": 37,
      "outputs": []
    },
    {
      "cell_type": "code",
      "source": [
        "print(processing_list(['Мама мыла раму, раму мыла мама', 'Hello & world!']))"
      ],
      "metadata": {
        "id": "lArtPiw5QNc5",
        "outputId": "dabb2bf7-9729-419b-a92e-3efec71de2d2",
        "colab": {
          "base_uri": "https://localhost:8080/"
        }
      },
      "execution_count": 38,
      "outputs": [
        {
          "output_type": "stream",
          "name": "stdout",
          "text": [
            "['мама мыла раму раму мыла мама', 'hello  world']\n"
          ]
        }
      ]
    },
    {
      "cell_type": "code",
      "source": [
        "#Задача 1"
      ],
      "metadata": {
        "id": "Dxs0YUSFQfQJ"
      },
      "execution_count": null,
      "outputs": []
    }
  ]
}