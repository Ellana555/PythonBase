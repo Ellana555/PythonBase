{
  "nbformat": 4,
  "nbformat_minor": 0,
  "metadata": {
    "colab": {
      "provenance": [],
      "authorship_tag": "ABX9TyMa/trVli9YupEuHjuS6Gqx",
      "include_colab_link": true
    },
    "kernelspec": {
      "name": "python3",
      "display_name": "Python 3"
    },
    "language_info": {
      "name": "python"
    }
  },
  "cells": [
    {
      "cell_type": "markdown",
      "metadata": {
        "id": "view-in-github",
        "colab_type": "text"
      },
      "source": [
        "<a href=\"https://colab.research.google.com/github/Ellana555/Skillfactory/blob/main/%D0%A6%D0%B8%D0%BA%D0%BB%D1%8B%20-%20%D0%A2%D1%80%D0%B5%D0%BD%D0%B8%D1%80%D0%BE%D0%B2%D0%BE%D1%87%D0%BD%D1%8B%D0%B9%20%D0%BC%D0%B0%D1%82%D0%B5%D1%80%D0%B8%D0%B0%D0%BB.ipynb\" target=\"_parent\"><img src=\"https://colab.research.google.com/assets/colab-badge.svg\" alt=\"Open In Colab\"/></a>"
      ]
    },
    {
      "cell_type": "markdown",
      "source": [
        "Циклы"
      ],
      "metadata": {
        "id": "qxhYEQjQLNQV"
      }
    },
    {
      "cell_type": "code",
      "source": [
        "# Определяем итерируемый объект\n",
        "my_list= [5, 9, 19]  \n",
        "# Подставляем его в шаблон для цикла и записываем имя переменной цикла\n",
        "for element in my_list: \n",
        "    # Указываем необходимые действия в тело цикла\n",
        "    print('Element', element)\n",
        "\n",
        "## Будет выведено:\n",
        "## Element 5\n",
        "## Element 9\n",
        "## Element 19"
      ],
      "metadata": {
        "colab": {
          "base_uri": "https://localhost:8080/"
        },
        "id": "CIpIUTIsMZf2",
        "outputId": "acfd54ca-7d2d-4fde-beb2-c560fcfeee5b"
      },
      "execution_count": 5,
      "outputs": [
        {
          "output_type": "stream",
          "name": "stdout",
          "text": [
            "Element 5\n",
            "Element 9\n",
            "Element 19\n"
          ]
        }
      ]
    },
    {
      "cell_type": "code",
      "source": [
        "incomes = [120, 38.5, 40.5, 80]\n",
        "s = 0\n",
        "for i in incomes:\n",
        "    s += i\n",
        "print(s)"
      ],
      "metadata": {
        "colab": {
          "base_uri": "https://localhost:8080/"
        },
        "id": "HzvjnBvHNmJv",
        "outputId": "beab0306-68cc-4195-c70c-f94946ce197c"
      },
      "execution_count": 6,
      "outputs": [
        {
          "output_type": "stream",
          "name": "stdout",
          "text": [
            "279.0\n"
          ]
        }
      ]
    },
    {
      "cell_type": "code",
      "source": [
        "num_list = [98, 24, 23, 12, 3]\n",
        "s = 1\n",
        "for i in num_list:\n",
        "    s *= i\n",
        "print(s)"
      ],
      "metadata": {
        "colab": {
          "base_uri": "https://localhost:8080/"
        },
        "id": "qyh6KlpxOSad",
        "outputId": "5d86d0b7-5678-4366-d0bb-361817240b7f"
      },
      "execution_count": 7,
      "outputs": [
        {
          "output_type": "stream",
          "name": "stdout",
          "text": [
            "1947456\n"
          ]
        }
      ]
    },
    {
      "cell_type": "code",
      "source": [
        "# Задаём список доходов семьи Быковых\n",
        "incomes = [120, 38.5, 40.5, 80]\n",
        "\n",
        "\n",
        "# Задаём начальное значение суммы доходов \n",
        "S = 0 \n",
        "# Создаём цикл for, в котором будем проходиться по элементам списка incomes.\n",
        "# income — текущее значение элемента списка\n",
        "for income in incomes: \n",
        "    # Выводим текущее значение переменной income\n",
        "    print('Current income', income)   \n",
        "    # Выводим текущее значение переменной S  \n",
        "    print('Current S', S) \n",
        "    # Увеличиваем сумму доходов на значение income\n",
        "    # Равносильно S = S + income\n",
        "    S += income \n",
        "    # Выводим обновлённое значение переменной S\n",
        "    print('New S', S)\n",
        "    # Выводим пустую строку для красивого отображения \n",
        "    print() \n",
        "# Выводим результат \n",
        "print('Answer: s=', S) "
      ],
      "metadata": {
        "colab": {
          "base_uri": "https://localhost:8080/"
        },
        "id": "dSdJK-QHTo6R",
        "outputId": "8d43fa3d-8df4-4529-a90b-e19edf14df4c"
      },
      "execution_count": 8,
      "outputs": [
        {
          "output_type": "stream",
          "name": "stdout",
          "text": [
            "Current income 120\n",
            "Current S 0\n",
            "New S 120\n",
            "\n",
            "Current income 38.5\n",
            "Current S 120\n",
            "New S 158.5\n",
            "\n",
            "Current income 40.5\n",
            "Current S 158.5\n",
            "New S 199.0\n",
            "\n",
            "Current income 80\n",
            "Current S 199.0\n",
            "New S 279.0\n",
            "\n",
            "Answer: s= 279.0\n"
          ]
        }
      ]
    },
    {
      "cell_type": "code",
      "source": [
        "# Создаём накопительную переменную, в которой будем считать сумму.\n",
        "S = 0  \n",
        "# Задаём N — последний элемент последовательности\n",
        "N = 5 \n",
        "\n",
        "\n",
        "# Создаём цикл for, которым будем проходить по всем числам от 1 до N (включительно).\n",
        "# Равносильно выражению for i in [1, 2, 3, ... , N -1, N]:\n",
        "for i in range(1, N + 1):  \n",
        "    # Выводим значение суммы на текущем шаге\n",
        "    print(\"Current S: \", S) \n",
        "    # Выводим текущее число\n",
        "    print(\"Current number: \", i) \n",
        "    # Суммируем текущее число i и перезаписываем значение суммы\n",
        "    # Равносильно S = S + i\n",
        "    S += i  \n",
        "    # Выводим значение суммы после сложения\n",
        "    print(\"Sum after addition: \", S)\n",
        "    # Выводим строчку для визуального разделения результатов \n",
        "    print(\"---\") \n",
        "\n",
        "\n",
        "# Выводим ответ в формате “ответ: сумма равна =”\n",
        "print(\"Answer: sum = \", S)"
      ],
      "metadata": {
        "colab": {
          "base_uri": "https://localhost:8080/"
        },
        "id": "9fi_45twTzBo",
        "outputId": "cbf0ee9f-3d1c-466f-fda7-b3ad60870618"
      },
      "execution_count": 9,
      "outputs": [
        {
          "output_type": "stream",
          "name": "stdout",
          "text": [
            "Current S:  0\n",
            "Current number:  1\n",
            "Sum after addition:  1\n",
            "---\n",
            "Current S:  1\n",
            "Current number:  2\n",
            "Sum after addition:  3\n",
            "---\n",
            "Current S:  3\n",
            "Current number:  3\n",
            "Sum after addition:  6\n",
            "---\n",
            "Current S:  6\n",
            "Current number:  4\n",
            "Sum after addition:  10\n",
            "---\n",
            "Current S:  10\n",
            "Current number:  5\n",
            "Sum after addition:  15\n",
            "---\n",
            "Answer: sum =  15\n"
          ]
        }
      ]
    },
    {
      "cell_type": "code",
      "source": [
        "a = range(20,1,-2)\n",
        "print(len(a))"
      ],
      "metadata": {
        "colab": {
          "base_uri": "https://localhost:8080/"
        },
        "id": "1Hv3WQsNVF_P",
        "outputId": "25997a44-bf37-4a35-af9c-43d6ef661a80"
      },
      "execution_count": 13,
      "outputs": [
        {
          "output_type": "stream",
          "name": "stdout",
          "text": [
            "10\n"
          ]
        }
      ]
    },
    {
      "cell_type": "code",
      "source": [
        "# Задаём список значений массы товаров\n",
        "weight_of_products = [10, 42.4, 240.1, 101.5, 98, 0.4, 0.3, 15] \n",
        "\n",
        "\n",
        "# Задаём максимальное значение веса груза\n",
        "max_weight = 100 \n",
        "# Задаём начальный номер груза\n",
        "num = 1 \n",
        "# Создаём цикл по элементам списка со значениями массы товаров\n",
        "# weight — текущее значение веса\n",
        "for weight in weight_of_products: \n",
        "    # Если текущий вес меньше максимального,\n",
        "    if weight < max_weight: \n",
        "        # выводим номер груза, его вес и отправляем его в легковую машину.\n",
        "        print('Product {}, weight: {} -passenger car'.format(num, weight)) \n",
        "    else:\n",
        "        # В противном случае\n",
        "        # выводим номер груза, его вес и отправляем его в грузовую машину.\n",
        "        print('Product {}, weight: {} -truck'.format(num, weight))\n",
        "    # Увеличиваем значение номера груза на 1\n",
        "    num += 1"
      ],
      "metadata": {
        "colab": {
          "base_uri": "https://localhost:8080/"
        },
        "id": "HcZt36cOTrs2",
        "outputId": "b384bd2e-b217-44e0-e00d-255208ba40df"
      },
      "execution_count": 14,
      "outputs": [
        {
          "output_type": "stream",
          "name": "stdout",
          "text": [
            "Product 1, weight: 10 -passenger car\n",
            "Product 2, weight: 42.4 -passenger car\n",
            "Product 3, weight: 240.1 -truck\n",
            "Product 4, weight: 101.5 -truck\n",
            "Product 5, weight: 98 -passenger car\n",
            "Product 6, weight: 0.4 -passenger car\n",
            "Product 7, weight: 0.3 -passenger car\n",
            "Product 8, weight: 15 -passenger car\n"
          ]
        }
      ]
    },
    {
      "cell_type": "code",
      "source": [
        "# Задаём список значений массы товаров\n",
        "weight_of_products = [10, 42.4, 240.1, 101.5, 98, 0.4, 0.3, 15] \n",
        "# Задаём максимальное значение веса груза\n",
        "max_weight = 100 \n",
        "# Вычисляем длину списка\n",
        "N = len(weight_of_products) \n",
        "# Создаём цикл по последовательности чисел от 0 до N (не включая N)\n",
        "# i — текущее значение последовательности\n",
        "for i in range(N): \n",
        "    # Обращаемся к элементу по индексу и сравниваем его с максимумом\n",
        "    if weight_of_products[i] < max_weight:\n",
        "        # Если текущий вес меньше максимального,\n",
        "        # выводим номер груза, его массу и отправляем его в легковую машину.\n",
        "        print('Product {}, weight: {} -passenger car'.format(i+1, weight_of_products[i])) \n",
        "    else:\n",
        "        # В противном случае\n",
        "        # выводим номер груза, его массу и отправляем его в грузовую машину\n",
        "        print('Product {}, weight: {} -truck'.format(i+1, weight_of_products[i]))"
      ],
      "metadata": {
        "colab": {
          "base_uri": "https://localhost:8080/"
        },
        "id": "Dm4bbW4XY1pX",
        "outputId": "9a4018ac-ff4f-4629-c63c-0152a098aa28"
      },
      "execution_count": 15,
      "outputs": [
        {
          "output_type": "stream",
          "name": "stdout",
          "text": [
            "Product 1, weight: 10 -passenger car\n",
            "Product 2, weight: 42.4 -passenger car\n",
            "Product 3, weight: 240.1 -truck\n",
            "Product 4, weight: 101.5 -truck\n",
            "Product 5, weight: 98 -passenger car\n",
            "Product 6, weight: 0.4 -passenger car\n",
            "Product 7, weight: 0.3 -passenger car\n",
            "Product 8, weight: 15 -passenger car\n"
          ]
        }
      ]
    },
    {
      "cell_type": "code",
      "source": [
        "# Список мест, которые хотим посетить.\n",
        "places = [\n",
        "    'Red Square',\n",
        "    'Swallow Nest',\n",
        "    'Niagara Falls',\n",
        "    'Grand Canyon',\n",
        "    'Louvre',\n",
        "    'Hermitage'\n",
        "]\n",
        "# Словарь соответствия мест и стран\n",
        "location = {\n",
        "    'Red Square': 'Russia',\n",
        "    'Swallow Nest': 'Russia',\n",
        "    'Niagara Falls': 'USA',\n",
        "    'Grand Canyon': 'USA',\n",
        "    'Louvre': 'France',\n",
        "    'Hermitage': 'Russia'\n",
        "}\n",
        "# Вычисляем длину списка\n",
        "N = len(places)\n",
        "# Создаём цикл по списку мест, которые хотим посетить.\n",
        "# i — текущее значение последовательности\n",
        "for i in range(N):\n",
        "    # places[i] — i-й элемент в списке places\n",
        "    # Получаем страну из словаря location по ключу\n",
        "    country = location[places[i]]\n",
        "    # Сравниваем название стран\n",
        "    if country != 'Russia':\n",
        "        # Помечаем место как недоступное\n",
        "        places[i] = 'Unavailable'\n",
        "# Выводим результирующий список\n",
        "print(places)\n",
        "\n",
        "\n",
        "## Будет выведено:\n",
        "## ['Red Square', 'Swallow Nest', 'Unavailable', 'Unavailable', 'Unavailable', 'Hermitage']"
      ],
      "metadata": {
        "colab": {
          "base_uri": "https://localhost:8080/"
        },
        "id": "1oouHk3_ZG-J",
        "outputId": "6c423634-1334-4186-bd32-0964333e84f1"
      },
      "execution_count": 16,
      "outputs": [
        {
          "output_type": "stream",
          "name": "stdout",
          "text": [
            "['Red Square', 'Swallow Nest', 'Unavailable', 'Unavailable', 'Unavailable', 'Hermitage']\n"
          ]
        }
      ]
    },
    {
      "cell_type": "code",
      "source": [
        "num_list = [1, 10, 3, -5]\n",
        "num_list.sort()\n",
        "elem = len(num_list)\n",
        "num_list\n",
        "print(num_list)\n",
        "for i in range(elem):\n",
        "    print('element {}: {}'.format(i, num_list[i]))"
      ],
      "metadata": {
        "colab": {
          "base_uri": "https://localhost:8080/"
        },
        "id": "XvBEeE-Ya5N_",
        "outputId": "580bdcb3-741e-4d96-c0f8-673c133fcf5c"
      },
      "execution_count": 28,
      "outputs": [
        {
          "output_type": "stream",
          "name": "stdout",
          "text": [
            "[-5, 1, 3, 10]\n",
            "element 0: -5\n",
            "element 1: 1\n",
            "element 2: 3\n",
            "element 3: 10\n"
          ]
        }
      ]
    },
    {
      "cell_type": "code",
      "source": [],
      "metadata": {
        "id": "bFHV8_OafGh3"
      },
      "execution_count": null,
      "outputs": []
    }
  ]
}