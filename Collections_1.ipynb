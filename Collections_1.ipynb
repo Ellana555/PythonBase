{
  "nbformat": 4,
  "nbformat_minor": 0,
  "metadata": {
    "colab": {
      "name": "NumPy.ipynb",
      "provenance": [],
      "collapsed_sections": [],
      "toc_visible": true,
      "mount_file_id": "11Z3-iKfQd_ej8R8AEUpC_fmOxYDUstdA",
      "authorship_tag": "ABX9TyNcE6uE+EpfAtXsyctXiTUJ",
      "include_colab_link": true
    },
    "kernelspec": {
      "name": "python3",
      "display_name": "Python 3"
    },
    "language_info": {
      "name": "python"
    }
  },
  "cells": [
    {
      "cell_type": "markdown",
      "metadata": {
        "id": "view-in-github",
        "colab_type": "text"
      },
      "source": [
        "<a href=\"https://colab.research.google.com/github/Ellana555/Skillfactory/blob/main/Collections_1.ipynb\" target=\"_parent\"><img src=\"https://colab.research.google.com/assets/colab-badge.svg\" alt=\"Open In Colab\"/></a>"
      ]
    },
    {
      "cell_type": "code",
      "source": [
        ""
      ],
      "metadata": {
        "id": "Qp0wthGyEklI"
      },
      "execution_count": null,
      "outputs": []
    },
    {
      "cell_type": "markdown",
      "source": [
        ""
      ],
      "metadata": {
        "id": "taPv8OCAD9zE"
      }
    },
    {
      "cell_type": "markdown",
      "source": [
        "# Модуль Collections \n"
      ],
      "metadata": {
        "id": "BwCrfKklD_W7"
      }
    },
    {
      "cell_type": "markdown",
      "source": [
        "## Counter"
      ],
      "metadata": {
        "id": "pK1X2-PGEn0L"
      }
    },
    {
      "cell_type": "code",
      "execution_count": 1,
      "metadata": {
        "id": "ML4Yp5wBlcyL"
      },
      "outputs": [],
      "source": [
        "from collections import Counter\n",
        "c = Counter()"
      ]
    },
    {
      "cell_type": "code",
      "source": [
        "c['red'] += 1\n",
        "print(c)"
      ],
      "metadata": {
        "colab": {
          "base_uri": "https://localhost:8080/"
        },
        "id": "11DzoL6UsbZp",
        "outputId": "b8bece9f-0ed8-4a8b-b2c1-0452031dac94"
      },
      "execution_count": 2,
      "outputs": [
        {
          "output_type": "stream",
          "name": "stdout",
          "text": [
            "Counter({'red': 1})\n"
          ]
        }
      ]
    },
    {
      "cell_type": "code",
      "source": [
        "d = dict()\n",
        "d['red'] = 0\n",
        "d['red'] += 1\n",
        "print(d)"
      ],
      "metadata": {
        "colab": {
          "base_uri": "https://localhost:8080/"
        },
        "id": "E9NByp6_tDKx",
        "outputId": "347cf723-b45d-45ad-b39d-f918aadc9bc1"
      },
      "execution_count": 6,
      "outputs": [
        {
          "output_type": "stream",
          "name": "stdout",
          "text": [
            "{'red': 1}\n"
          ]
        }
      ]
    },
    {
      "cell_type": "code",
      "source": [
        "cars = ['red', 'blue', 'black', 'black', 'black', 'red', 'blue', 'red', 'white']"
      ],
      "metadata": {
        "id": "fwOBPvVOuNOB"
      },
      "execution_count": 7,
      "outputs": []
    },
    {
      "cell_type": "code",
      "source": [
        "c = Counter()\n",
        "\n",
        "for car in cars:\n",
        "    c[car] += 1\n",
        "\n",
        "print(c)"
      ],
      "metadata": {
        "colab": {
          "base_uri": "https://localhost:8080/"
        },
        "id": "my2_Tla5uhQZ",
        "outputId": "5b6b14a2-05a5-43bb-f8e8-4c9d71ac1151"
      },
      "execution_count": 8,
      "outputs": [
        {
          "output_type": "stream",
          "name": "stdout",
          "text": [
            "Counter({'red': 3, 'black': 3, 'blue': 2, 'white': 1})\n"
          ]
        }
      ]
    },
    {
      "cell_type": "code",
      "source": [
        "c = Counter(cars)\n",
        "print(c)"
      ],
      "metadata": {
        "colab": {
          "base_uri": "https://localhost:8080/"
        },
        "id": "UTstal8xvqJZ",
        "outputId": "bd6df9f6-54fb-41b9-9717-88aed63d0080"
      },
      "execution_count": 9,
      "outputs": [
        {
          "output_type": "stream",
          "name": "stdout",
          "text": [
            "Counter({'red': 3, 'black': 3, 'blue': 2, 'white': 1})\n"
          ]
        }
      ]
    },
    {
      "cell_type": "code",
      "source": [
        "print(c['black'])"
      ],
      "metadata": {
        "colab": {
          "base_uri": "https://localhost:8080/"
        },
        "id": "fKixNfY4wE7l",
        "outputId": "028226ea-9705-4e71-a594-460997d94539"
      },
      "execution_count": 10,
      "outputs": [
        {
          "output_type": "stream",
          "name": "stdout",
          "text": [
            "3\n"
          ]
        }
      ]
    },
    {
      "cell_type": "code",
      "source": [
        "print(sum(c.values()))\n",
        "print(c.values())"
      ],
      "metadata": {
        "colab": {
          "base_uri": "https://localhost:8080/"
        },
        "id": "3-SaRtYuwqQV",
        "outputId": "efc42690-273f-40e4-f879-4b18dd77d322"
      },
      "execution_count": 14,
      "outputs": [
        {
          "output_type": "stream",
          "name": "stdout",
          "text": [
            "9\n",
            "dict_values([3, 2, 3, 1])\n"
          ]
        }
      ]
    },
    {
      "cell_type": "code",
      "source": [
        "cars_moscow = ['black', 'black', 'white', 'black', 'black', 'white', 'yellow', 'yellow', 'yellow']\n",
        "cars_spb = ['red', 'black', 'black', 'white', 'white', 'yellow', 'yellow', 'red', 'white']"
      ],
      "metadata": {
        "id": "IH37GR4Qy7I9"
      },
      "execution_count": 15,
      "outputs": []
    },
    {
      "cell_type": "code",
      "source": [
        "Counter_moscow = Counter(cars_moscow)\n",
        "Counter_spb = Counter(cars_spb)\n",
        "print(Counter_moscow)\n",
        "print(Counter_spb)"
      ],
      "metadata": {
        "colab": {
          "base_uri": "https://localhost:8080/"
        },
        "id": "DhpExidz1NbY",
        "outputId": "7184e949-37b1-4a86-e386-3f2f318b7ff2"
      },
      "execution_count": 20,
      "outputs": [
        {
          "output_type": "stream",
          "name": "stdout",
          "text": [
            "Counter({'black': 4, 'yellow': 3, 'white': 2})\n",
            "Counter({'white': 3, 'red': 2, 'black': 2, 'yellow': 2})\n"
          ]
        }
      ]
    },
    {
      "cell_type": "code",
      "source": [
        "print(Counter_spb + Counter_moscow)"
      ],
      "metadata": {
        "colab": {
          "base_uri": "https://localhost:8080/"
        },
        "id": "-rdIP0C21NhJ",
        "outputId": "7dc58634-a235-47d2-a556-75314ea9b46a"
      },
      "execution_count": 17,
      "outputs": [
        {
          "output_type": "stream",
          "name": "stdout",
          "text": [
            "Counter({'black': 6, 'white': 5, 'yellow': 5, 'red': 2})\n"
          ]
        }
      ]
    },
    {
      "cell_type": "code",
      "source": [
        "Counter_moscow.subtract(Counter_spb)\n",
        "print(Counter_moscow)"
      ],
      "metadata": {
        "colab": {
          "base_uri": "https://localhost:8080/"
        },
        "id": "OAhgyUS723Nn",
        "outputId": "8049b462-3f34-497e-b92a-84a3bfd4b796"
      },
      "execution_count": 22,
      "outputs": [
        {
          "output_type": "stream",
          "name": "stdout",
          "text": [
            "Counter({'black': 2, 'yellow': 1, 'white': -1, 'red': -2})\n"
          ]
        }
      ]
    },
    {
      "cell_type": "code",
      "source": [
        "Counter_moscow = Counter(cars_moscow)\n",
        "Counter_spb = Counter(cars_spb)\n",
        "\n",
        "print(Counter_moscow - Counter_spb)"
      ],
      "metadata": {
        "colab": {
          "base_uri": "https://localhost:8080/"
        },
        "id": "xd8ZQiRF3jva",
        "outputId": "56a6d760-80d1-45f5-f6aa-41e212f9c642"
      },
      "execution_count": 21,
      "outputs": [
        {
          "output_type": "stream",
          "name": "stdout",
          "text": [
            "Counter({'black': 2, 'yellow': 1})\n"
          ]
        }
      ]
    },
    {
      "cell_type": "code",
      "source": [
        "Counter_moscow = Counter(cars_moscow)\n",
        "Counter_spb = Counter(cars_spb)\n",
        "\n",
        "print(*Counter_moscow.elements())"
      ],
      "metadata": {
        "colab": {
          "base_uri": "https://localhost:8080/"
        },
        "id": "rIaou-2F-iv4",
        "outputId": "d25212e8-7589-49fc-c2da-619a1b733da0"
      },
      "execution_count": 25,
      "outputs": [
        {
          "output_type": "stream",
          "name": "stdout",
          "text": [
            "black black black black white white yellow yellow yellow\n"
          ]
        }
      ]
    },
    {
      "cell_type": "code",
      "source": [
        "print(list(Counter_moscow))"
      ],
      "metadata": {
        "colab": {
          "base_uri": "https://localhost:8080/"
        },
        "id": "Nbk8urCe_mG6",
        "outputId": "499288f9-4e7b-496d-8ca8-424e335425a4"
      },
      "execution_count": 26,
      "outputs": [
        {
          "output_type": "stream",
          "name": "stdout",
          "text": [
            "['black', 'white', 'yellow']\n"
          ]
        }
      ]
    },
    {
      "cell_type": "code",
      "source": [
        "print(dict(Counter_moscow))"
      ],
      "metadata": {
        "colab": {
          "base_uri": "https://localhost:8080/"
        },
        "id": "Jwqgdqu2AGRQ",
        "outputId": "c84eccf6-663a-4c00-ef52-3f3b31c35024"
      },
      "execution_count": 27,
      "outputs": [
        {
          "output_type": "stream",
          "name": "stdout",
          "text": [
            "{'black': 4, 'white': 2, 'yellow': 3}\n"
          ]
        }
      ]
    },
    {
      "cell_type": "code",
      "source": [
        "Counter_moscow.most_common()"
      ],
      "metadata": {
        "colab": {
          "base_uri": "https://localhost:8080/"
        },
        "id": "7-3zbTYHBAg0",
        "outputId": "21a03fcb-9ad4-4b5d-e497-343a8f3af6f5"
      },
      "execution_count": 28,
      "outputs": [
        {
          "output_type": "execute_result",
          "data": {
            "text/plain": [
              "[('black', 4), ('yellow', 3), ('white', 2)]"
            ]
          },
          "metadata": {},
          "execution_count": 28
        }
      ]
    },
    {
      "cell_type": "code",
      "source": [
        "Counter_moscow.most_common(2)"
      ],
      "metadata": {
        "colab": {
          "base_uri": "https://localhost:8080/"
        },
        "id": "W2qzPtdEBxgb",
        "outputId": "0739e838-edfa-4297-dabf-6fa17d1a88eb"
      },
      "execution_count": 29,
      "outputs": [
        {
          "output_type": "execute_result",
          "data": {
            "text/plain": [
              "[('black', 4), ('yellow', 3)]"
            ]
          },
          "metadata": {},
          "execution_count": 29
        }
      ]
    },
    {
      "cell_type": "code",
      "source": [
        "print(Counter_moscow)"
      ],
      "metadata": {
        "colab": {
          "base_uri": "https://localhost:8080/"
        },
        "id": "y3idzzxxDPQD",
        "outputId": "21f2fd70-5f79-4a9d-c075-d86e187339b3"
      },
      "execution_count": 30,
      "outputs": [
        {
          "output_type": "stream",
          "name": "stdout",
          "text": [
            "Counter({'black': 4, 'yellow': 3, 'white': 2})\n"
          ]
        }
      ]
    },
    {
      "cell_type": "code",
      "source": [
        "Counter_moscow.clear()\n",
        "print(Counter_moscow)"
      ],
      "metadata": {
        "colab": {
          "base_uri": "https://localhost:8080/"
        },
        "id": "tTg0IGtMDVpi",
        "outputId": "99c37cb5-a540-4b56-b807-353dda4aa277"
      },
      "execution_count": 31,
      "outputs": [
        {
          "output_type": "stream",
          "name": "stdout",
          "text": [
            "Counter()\n"
          ]
        }
      ]
    },
    {
      "cell_type": "markdown",
      "source": [
        "## Defaultdict"
      ],
      "metadata": {
        "id": "4NIIo3nrEa5E"
      }
    },
    {
      "cell_type": "markdown",
      "source": [
        ""
      ],
      "metadata": {
        "id": "mdmbHOq5l5S2"
      }
    }
  ]
}