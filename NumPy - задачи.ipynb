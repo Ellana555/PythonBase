{
  "nbformat": 4,
  "nbformat_minor": 0,
  "metadata": {
    "colab": {
      "name": "Untitled15.ipynb",
      "provenance": [],
      "authorship_tag": "ABX9TyPCNDbvPx34U86P8ub7UTNe",
      "include_colab_link": true
    },
    "kernelspec": {
      "name": "python3",
      "display_name": "Python 3"
    },
    "language_info": {
      "name": "python"
    }
  },
  "cells": [
    {
      "cell_type": "markdown",
      "metadata": {
        "id": "view-in-github",
        "colab_type": "text"
      },
      "source": [
        "<a href=\"https://colab.research.google.com/github/Ellana555/Skillfactory/blob/main/NumPy%20-%20%D0%B7%D0%B0%D0%B4%D0%B0%D1%87%D0%B8.ipynb\" target=\"_parent\"><img src=\"https://colab.research.google.com/assets/colab-badge.svg\" alt=\"Open In Colab\"/></a>"
      ]
    },
    {
      "cell_type": "code",
      "source": [
        "import numpy as np"
      ],
      "metadata": {
        "id": "E-2dr51gzg5a"
      },
      "execution_count": null,
      "outputs": []
    },
    {
      "cell_type": "code",
      "source": [
        "import numpy as np\n",
        "def get_chess(a):\n",
        "    array_pol = np.zeros((a, a))\n",
        "    array_pol[::2,1::2] = 1 \n",
        "    array_pol[1::2,::2] = 1 \n",
        "    return array_pol"
      ],
      "metadata": {
        "id": "blUiSD_wzteB"
      },
      "execution_count": null,
      "outputs": []
    },
    {
      "cell_type": "code",
      "source": [
        "get_chess(4)"
      ],
      "metadata": {
        "colab": {
          "base_uri": "https://localhost:8080/"
        },
        "id": "9oROl7jM0dux",
        "outputId": "fcecc9ff-bb15-41cf-bc95-7b5409a15daa"
      },
      "execution_count": null,
      "outputs": [
        {
          "output_type": "execute_result",
          "data": {
            "text/plain": [
              "array([[0., 1., 0., 1.],\n",
              "       [1., 0., 1., 0.],\n",
              "       [0., 1., 0., 1.],\n",
              "       [1., 0., 1., 0.]])"
            ]
          },
          "metadata": {},
          "execution_count": 79
        }
      ]
    },
    {
      "cell_type": "code",
      "source": [
        "def shuffle_seed(array):\n",
        "    seed = np.random.randint(0, 2**32-1)\n",
        "    np.random.seed(seed)\n",
        "    array = np.random.permutation(array)\n",
        "    arr = ((array, seed))\n",
        "    return arr"
      ],
      "metadata": {
        "id": "wFSjiMTQEtcv"
      },
      "execution_count": null,
      "outputs": []
    },
    {
      "cell_type": "code",
      "source": [
        "array = [1, 2, 3, 4, 5]\n",
        "shuffle_seed(array)"
      ],
      "metadata": {
        "colab": {
          "base_uri": "https://localhost:8080/"
        },
        "id": "MK3UfKibBvqg",
        "outputId": "4b76f1cc-80c3-4bba-8097-a44b9d5540a8"
      },
      "execution_count": null,
      "outputs": [
        {
          "output_type": "execute_result",
          "data": {
            "text/plain": [
              "(array([4, 5, 1, 3, 2]), 1059356461)"
            ]
          },
          "metadata": {},
          "execution_count": 142
        }
      ]
    }
  ]
}