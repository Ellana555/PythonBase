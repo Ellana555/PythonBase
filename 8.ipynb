{
  "nbformat": 4,
  "nbformat_minor": 0,
  "metadata": {
    "colab": {
      "provenance": [],
      "authorship_tag": "ABX9TyNbUKmMxJazWgAdmG7Qsuun",
      "include_colab_link": true
    },
    "kernelspec": {
      "name": "python3",
      "display_name": "Python 3"
    },
    "language_info": {
      "name": "python"
    }
  },
  "cells": [
    {
      "cell_type": "markdown",
      "metadata": {
        "id": "view-in-github",
        "colab_type": "text"
      },
      "source": [
        "<a href=\"https://colab.research.google.com/github/Ellana555/Skillfactory/blob/main/8.ipynb\" target=\"_parent\"><img src=\"https://colab.research.google.com/assets/colab-badge.svg\" alt=\"Open In Colab\"/></a>"
      ]
    },
    {
      "cell_type": "code",
      "execution_count": 6,
      "metadata": {
        "id": "zGE4z1hHqIci"
      },
      "outputs": [],
      "source": [
        "import pandas as pd\n",
        "\n",
        "sample = pd.read_csv('sample.csv')"
      ]
    },
    {
      "cell_type": "code",
      "source": [
        "columns = sample.columns"
      ],
      "metadata": {
        "id": "ub1YsT8BrJRJ"
      },
      "execution_count": 7,
      "outputs": []
    },
    {
      "cell_type": "code",
      "source": [
        "columns = [x.lower() for x in columns]\n",
        "columns"
      ],
      "metadata": {
        "colab": {
          "base_uri": "https://localhost:8080/"
        },
        "id": "tMB2OpcRrPHa",
        "outputId": "8b351f26-4945-4481-ed58-9b2e998b461b"
      },
      "execution_count": 9,
      "outputs": [
        {
          "output_type": "execute_result",
          "data": {
            "text/plain": [
              "['name', 'city', 'age', 'profession']"
            ]
          },
          "metadata": {},
          "execution_count": 9
        }
      ]
    },
    {
      "cell_type": "code",
      "source": [
        "sample.columns = ['name', 'city', 'age', 'profession']"
      ],
      "metadata": {
        "id": "zDmd--3Drxi1"
      },
      "execution_count": null,
      "outputs": []
    },
    {
      "cell_type": "code",
      "source": [
        "log = pd.read_csv('log.csv', header = None)\n",
        "log.columns = ['user_id', 'time', 'bet', 'win']"
      ],
      "metadata": {
        "id": "rNGVKHl7r-yP"
      },
      "execution_count": 11,
      "outputs": []
    },
    {
      "cell_type": "code",
      "source": [
        "users = pd.read_csv('users.csv', delimiter = '\\t', encoding = 'koi8-r' )\n",
        "users.columns"
      ],
      "metadata": {
        "colab": {
          "base_uri": "https://localhost:8080/"
        },
        "id": "kvG8iYrQsbpN",
        "outputId": "4d7b3ed7-0306-4653-fb54-a2169cbecb95"
      },
      "execution_count": 14,
      "outputs": [
        {
          "output_type": "execute_result",
          "data": {
            "text/plain": [
              "Index(['Юзверь', 'мейл', 'Гео'], dtype='object')"
            ]
          },
          "metadata": {},
          "execution_count": 14
        }
      ]
    },
    {
      "cell_type": "code",
      "source": [
        "sample.Name.str.match(\"К\", na = False)"
      ],
      "metadata": {
        "colab": {
          "base_uri": "https://localhost:8080/",
          "height": 429
        },
        "id": "AJdD02kmv9LL",
        "outputId": "586b07e1-de61-49b5-c9cd-38299804422c"
      },
      "execution_count": 16,
      "outputs": [
        {
          "output_type": "execute_result",
          "data": {
            "text/plain": [
              "0     False\n",
              "1     False\n",
              "2     False\n",
              "3     False\n",
              "4     False\n",
              "5      True\n",
              "6     False\n",
              "7      True\n",
              "8     False\n",
              "9     False\n",
              "10    False\n",
              "Name: Name, dtype: bool"
            ],
            "text/html": [
              "<div>\n",
              "<style scoped>\n",
              "    .dataframe tbody tr th:only-of-type {\n",
              "        vertical-align: middle;\n",
              "    }\n",
              "\n",
              "    .dataframe tbody tr th {\n",
              "        vertical-align: top;\n",
              "    }\n",
              "\n",
              "    .dataframe thead th {\n",
              "        text-align: right;\n",
              "    }\n",
              "</style>\n",
              "<table border=\"1\" class=\"dataframe\">\n",
              "  <thead>\n",
              "    <tr style=\"text-align: right;\">\n",
              "      <th></th>\n",
              "      <th>Name</th>\n",
              "    </tr>\n",
              "  </thead>\n",
              "  <tbody>\n",
              "    <tr>\n",
              "      <th>0</th>\n",
              "      <td>False</td>\n",
              "    </tr>\n",
              "    <tr>\n",
              "      <th>1</th>\n",
              "      <td>False</td>\n",
              "    </tr>\n",
              "    <tr>\n",
              "      <th>2</th>\n",
              "      <td>False</td>\n",
              "    </tr>\n",
              "    <tr>\n",
              "      <th>3</th>\n",
              "      <td>False</td>\n",
              "    </tr>\n",
              "    <tr>\n",
              "      <th>4</th>\n",
              "      <td>False</td>\n",
              "    </tr>\n",
              "    <tr>\n",
              "      <th>5</th>\n",
              "      <td>True</td>\n",
              "    </tr>\n",
              "    <tr>\n",
              "      <th>6</th>\n",
              "      <td>False</td>\n",
              "    </tr>\n",
              "    <tr>\n",
              "      <th>7</th>\n",
              "      <td>True</td>\n",
              "    </tr>\n",
              "    <tr>\n",
              "      <th>8</th>\n",
              "      <td>False</td>\n",
              "    </tr>\n",
              "    <tr>\n",
              "      <th>9</th>\n",
              "      <td>False</td>\n",
              "    </tr>\n",
              "    <tr>\n",
              "      <th>10</th>\n",
              "      <td>False</td>\n",
              "    </tr>\n",
              "  </tbody>\n",
              "</table>\n",
              "</div><br><label><b>dtype:</b> bool</label>"
            ]
          },
          "metadata": {},
          "execution_count": 16
        }
      ]
    },
    {
      "cell_type": "code",
      "source": [
        "sample[~sample.Name.str.match(\"К\", na=False)]"
      ],
      "metadata": {
        "colab": {
          "base_uri": "https://localhost:8080/",
          "height": 332
        },
        "id": "6JUdhVNIxbbt",
        "outputId": "5bbe66e2-12a5-4b60-cab4-6c5a311d9297"
      },
      "execution_count": 19,
      "outputs": [
        {
          "output_type": "execute_result",
          "data": {
            "text/plain": [
              "          Name         City  Age Profession\n",
              "0       Иванов       Москва   25     Клинер\n",
              "1          NaN    Волгоград   31   Менеджер\n",
              "2       Иванов       Москва   25     Клинер\n",
              "3      sidorov  Владивосток   43   Менеджер\n",
              "4      _______        Курск   50   Водитель\n",
              "6        Сажин       Сургут   29    Рабочий\n",
              "8   Завалишина    Чебоксары   36   Менеджер\n",
              "9       Левина          NaN   55    Рабочий\n",
              "10        Фикс         Рига   42    Рабочий"
            ],
            "text/html": [
              "\n",
              "  <div id=\"df-456c224f-61f1-4f73-be51-790fdc514168\" class=\"colab-df-container\">\n",
              "    <div>\n",
              "<style scoped>\n",
              "    .dataframe tbody tr th:only-of-type {\n",
              "        vertical-align: middle;\n",
              "    }\n",
              "\n",
              "    .dataframe tbody tr th {\n",
              "        vertical-align: top;\n",
              "    }\n",
              "\n",
              "    .dataframe thead th {\n",
              "        text-align: right;\n",
              "    }\n",
              "</style>\n",
              "<table border=\"1\" class=\"dataframe\">\n",
              "  <thead>\n",
              "    <tr style=\"text-align: right;\">\n",
              "      <th></th>\n",
              "      <th>Name</th>\n",
              "      <th>City</th>\n",
              "      <th>Age</th>\n",
              "      <th>Profession</th>\n",
              "    </tr>\n",
              "  </thead>\n",
              "  <tbody>\n",
              "    <tr>\n",
              "      <th>0</th>\n",
              "      <td>Иванов</td>\n",
              "      <td>Москва</td>\n",
              "      <td>25</td>\n",
              "      <td>Клинер</td>\n",
              "    </tr>\n",
              "    <tr>\n",
              "      <th>1</th>\n",
              "      <td>NaN</td>\n",
              "      <td>Волгоград</td>\n",
              "      <td>31</td>\n",
              "      <td>Менеджер</td>\n",
              "    </tr>\n",
              "    <tr>\n",
              "      <th>2</th>\n",
              "      <td>Иванов</td>\n",
              "      <td>Москва</td>\n",
              "      <td>25</td>\n",
              "      <td>Клинер</td>\n",
              "    </tr>\n",
              "    <tr>\n",
              "      <th>3</th>\n",
              "      <td>sidorov</td>\n",
              "      <td>Владивосток</td>\n",
              "      <td>43</td>\n",
              "      <td>Менеджер</td>\n",
              "    </tr>\n",
              "    <tr>\n",
              "      <th>4</th>\n",
              "      <td>_______</td>\n",
              "      <td>Курск</td>\n",
              "      <td>50</td>\n",
              "      <td>Водитель</td>\n",
              "    </tr>\n",
              "    <tr>\n",
              "      <th>6</th>\n",
              "      <td>Сажин</td>\n",
              "      <td>Сургут</td>\n",
              "      <td>29</td>\n",
              "      <td>Рабочий</td>\n",
              "    </tr>\n",
              "    <tr>\n",
              "      <th>8</th>\n",
              "      <td>Завалишина</td>\n",
              "      <td>Чебоксары</td>\n",
              "      <td>36</td>\n",
              "      <td>Менеджер</td>\n",
              "    </tr>\n",
              "    <tr>\n",
              "      <th>9</th>\n",
              "      <td>Левина</td>\n",
              "      <td>NaN</td>\n",
              "      <td>55</td>\n",
              "      <td>Рабочий</td>\n",
              "    </tr>\n",
              "    <tr>\n",
              "      <th>10</th>\n",
              "      <td>Фикс</td>\n",
              "      <td>Рига</td>\n",
              "      <td>42</td>\n",
              "      <td>Рабочий</td>\n",
              "    </tr>\n",
              "  </tbody>\n",
              "</table>\n",
              "</div>\n",
              "    <div class=\"colab-df-buttons\">\n",
              "\n",
              "  <div class=\"colab-df-container\">\n",
              "    <button class=\"colab-df-convert\" onclick=\"convertToInteractive('df-456c224f-61f1-4f73-be51-790fdc514168')\"\n",
              "            title=\"Convert this dataframe to an interactive table.\"\n",
              "            style=\"display:none;\">\n",
              "\n",
              "  <svg xmlns=\"http://www.w3.org/2000/svg\" height=\"24px\" viewBox=\"0 -960 960 960\">\n",
              "    <path d=\"M120-120v-720h720v720H120Zm60-500h600v-160H180v160Zm220 220h160v-160H400v160Zm0 220h160v-160H400v160ZM180-400h160v-160H180v160Zm440 0h160v-160H620v160ZM180-180h160v-160H180v160Zm440 0h160v-160H620v160Z\"/>\n",
              "  </svg>\n",
              "    </button>\n",
              "\n",
              "  <style>\n",
              "    .colab-df-container {\n",
              "      display:flex;\n",
              "      gap: 12px;\n",
              "    }\n",
              "\n",
              "    .colab-df-convert {\n",
              "      background-color: #E8F0FE;\n",
              "      border: none;\n",
              "      border-radius: 50%;\n",
              "      cursor: pointer;\n",
              "      display: none;\n",
              "      fill: #1967D2;\n",
              "      height: 32px;\n",
              "      padding: 0 0 0 0;\n",
              "      width: 32px;\n",
              "    }\n",
              "\n",
              "    .colab-df-convert:hover {\n",
              "      background-color: #E2EBFA;\n",
              "      box-shadow: 0px 1px 2px rgba(60, 64, 67, 0.3), 0px 1px 3px 1px rgba(60, 64, 67, 0.15);\n",
              "      fill: #174EA6;\n",
              "    }\n",
              "\n",
              "    .colab-df-buttons div {\n",
              "      margin-bottom: 4px;\n",
              "    }\n",
              "\n",
              "    [theme=dark] .colab-df-convert {\n",
              "      background-color: #3B4455;\n",
              "      fill: #D2E3FC;\n",
              "    }\n",
              "\n",
              "    [theme=dark] .colab-df-convert:hover {\n",
              "      background-color: #434B5C;\n",
              "      box-shadow: 0px 1px 3px 1px rgba(0, 0, 0, 0.15);\n",
              "      filter: drop-shadow(0px 1px 2px rgba(0, 0, 0, 0.3));\n",
              "      fill: #FFFFFF;\n",
              "    }\n",
              "  </style>\n",
              "\n",
              "    <script>\n",
              "      const buttonEl =\n",
              "        document.querySelector('#df-456c224f-61f1-4f73-be51-790fdc514168 button.colab-df-convert');\n",
              "      buttonEl.style.display =\n",
              "        google.colab.kernel.accessAllowed ? 'block' : 'none';\n",
              "\n",
              "      async function convertToInteractive(key) {\n",
              "        const element = document.querySelector('#df-456c224f-61f1-4f73-be51-790fdc514168');\n",
              "        const dataTable =\n",
              "          await google.colab.kernel.invokeFunction('convertToInteractive',\n",
              "                                                    [key], {});\n",
              "        if (!dataTable) return;\n",
              "\n",
              "        const docLinkHtml = 'Like what you see? Visit the ' +\n",
              "          '<a target=\"_blank\" href=https://colab.research.google.com/notebooks/data_table.ipynb>data table notebook</a>'\n",
              "          + ' to learn more about interactive tables.';\n",
              "        element.innerHTML = '';\n",
              "        dataTable['output_type'] = 'display_data';\n",
              "        await google.colab.output.renderOutput(dataTable, element);\n",
              "        const docLink = document.createElement('div');\n",
              "        docLink.innerHTML = docLinkHtml;\n",
              "        element.appendChild(docLink);\n",
              "      }\n",
              "    </script>\n",
              "  </div>\n",
              "\n",
              "\n",
              "<div id=\"df-f057d236-1a78-4a74-bdcd-36e99bc0e88b\">\n",
              "  <button class=\"colab-df-quickchart\" onclick=\"quickchart('df-f057d236-1a78-4a74-bdcd-36e99bc0e88b')\"\n",
              "            title=\"Suggest charts\"\n",
              "            style=\"display:none;\">\n",
              "\n",
              "<svg xmlns=\"http://www.w3.org/2000/svg\" height=\"24px\"viewBox=\"0 0 24 24\"\n",
              "     width=\"24px\">\n",
              "    <g>\n",
              "        <path d=\"M19 3H5c-1.1 0-2 .9-2 2v14c0 1.1.9 2 2 2h14c1.1 0 2-.9 2-2V5c0-1.1-.9-2-2-2zM9 17H7v-7h2v7zm4 0h-2V7h2v10zm4 0h-2v-4h2v4z\"/>\n",
              "    </g>\n",
              "</svg>\n",
              "  </button>\n",
              "\n",
              "<style>\n",
              "  .colab-df-quickchart {\n",
              "      --bg-color: #E8F0FE;\n",
              "      --fill-color: #1967D2;\n",
              "      --hover-bg-color: #E2EBFA;\n",
              "      --hover-fill-color: #174EA6;\n",
              "      --disabled-fill-color: #AAA;\n",
              "      --disabled-bg-color: #DDD;\n",
              "  }\n",
              "\n",
              "  [theme=dark] .colab-df-quickchart {\n",
              "      --bg-color: #3B4455;\n",
              "      --fill-color: #D2E3FC;\n",
              "      --hover-bg-color: #434B5C;\n",
              "      --hover-fill-color: #FFFFFF;\n",
              "      --disabled-bg-color: #3B4455;\n",
              "      --disabled-fill-color: #666;\n",
              "  }\n",
              "\n",
              "  .colab-df-quickchart {\n",
              "    background-color: var(--bg-color);\n",
              "    border: none;\n",
              "    border-radius: 50%;\n",
              "    cursor: pointer;\n",
              "    display: none;\n",
              "    fill: var(--fill-color);\n",
              "    height: 32px;\n",
              "    padding: 0;\n",
              "    width: 32px;\n",
              "  }\n",
              "\n",
              "  .colab-df-quickchart:hover {\n",
              "    background-color: var(--hover-bg-color);\n",
              "    box-shadow: 0 1px 2px rgba(60, 64, 67, 0.3), 0 1px 3px 1px rgba(60, 64, 67, 0.15);\n",
              "    fill: var(--button-hover-fill-color);\n",
              "  }\n",
              "\n",
              "  .colab-df-quickchart-complete:disabled,\n",
              "  .colab-df-quickchart-complete:disabled:hover {\n",
              "    background-color: var(--disabled-bg-color);\n",
              "    fill: var(--disabled-fill-color);\n",
              "    box-shadow: none;\n",
              "  }\n",
              "\n",
              "  .colab-df-spinner {\n",
              "    border: 2px solid var(--fill-color);\n",
              "    border-color: transparent;\n",
              "    border-bottom-color: var(--fill-color);\n",
              "    animation:\n",
              "      spin 1s steps(1) infinite;\n",
              "  }\n",
              "\n",
              "  @keyframes spin {\n",
              "    0% {\n",
              "      border-color: transparent;\n",
              "      border-bottom-color: var(--fill-color);\n",
              "      border-left-color: var(--fill-color);\n",
              "    }\n",
              "    20% {\n",
              "      border-color: transparent;\n",
              "      border-left-color: var(--fill-color);\n",
              "      border-top-color: var(--fill-color);\n",
              "    }\n",
              "    30% {\n",
              "      border-color: transparent;\n",
              "      border-left-color: var(--fill-color);\n",
              "      border-top-color: var(--fill-color);\n",
              "      border-right-color: var(--fill-color);\n",
              "    }\n",
              "    40% {\n",
              "      border-color: transparent;\n",
              "      border-right-color: var(--fill-color);\n",
              "      border-top-color: var(--fill-color);\n",
              "    }\n",
              "    60% {\n",
              "      border-color: transparent;\n",
              "      border-right-color: var(--fill-color);\n",
              "    }\n",
              "    80% {\n",
              "      border-color: transparent;\n",
              "      border-right-color: var(--fill-color);\n",
              "      border-bottom-color: var(--fill-color);\n",
              "    }\n",
              "    90% {\n",
              "      border-color: transparent;\n",
              "      border-bottom-color: var(--fill-color);\n",
              "    }\n",
              "  }\n",
              "</style>\n",
              "\n",
              "  <script>\n",
              "    async function quickchart(key) {\n",
              "      const quickchartButtonEl =\n",
              "        document.querySelector('#' + key + ' button');\n",
              "      quickchartButtonEl.disabled = true;  // To prevent multiple clicks.\n",
              "      quickchartButtonEl.classList.add('colab-df-spinner');\n",
              "      try {\n",
              "        const charts = await google.colab.kernel.invokeFunction(\n",
              "            'suggestCharts', [key], {});\n",
              "      } catch (error) {\n",
              "        console.error('Error during call to suggestCharts:', error);\n",
              "      }\n",
              "      quickchartButtonEl.classList.remove('colab-df-spinner');\n",
              "      quickchartButtonEl.classList.add('colab-df-quickchart-complete');\n",
              "    }\n",
              "    (() => {\n",
              "      let quickchartButtonEl =\n",
              "        document.querySelector('#df-f057d236-1a78-4a74-bdcd-36e99bc0e88b button');\n",
              "      quickchartButtonEl.style.display =\n",
              "        google.colab.kernel.accessAllowed ? 'block' : 'none';\n",
              "    })();\n",
              "  </script>\n",
              "</div>\n",
              "    </div>\n",
              "  </div>\n"
            ],
            "application/vnd.google.colaboratory.intrinsic+json": {
              "type": "dataframe",
              "summary": "{\n  \"name\": \"sample[~sample\",\n  \"rows\": 9,\n  \"fields\": [\n    {\n      \"column\": \"Name\",\n      \"properties\": {\n        \"dtype\": \"string\",\n        \"num_unique_values\": 7,\n        \"samples\": [\n          \"\\u0418\\u0432\\u0430\\u043d\\u043e\\u0432\",\n          \"sidorov\",\n          \"\\u041b\\u0435\\u0432\\u0438\\u043d\\u0430\"\n        ],\n        \"semantic_type\": \"\",\n        \"description\": \"\"\n      }\n    },\n    {\n      \"column\": \"City\",\n      \"properties\": {\n        \"dtype\": \"string\",\n        \"num_unique_values\": 7,\n        \"samples\": [\n          \"\\u041c\\u043e\\u0441\\u043a\\u0432\\u0430\",\n          \"\\u0412\\u043e\\u043b\\u0433\\u043e\\u0433\\u0440\\u0430\\u0434\",\n          \"\\u0427\\u0435\\u0431\\u043e\\u043a\\u0441\\u0430\\u0440\\u044b\"\n        ],\n        \"semantic_type\": \"\",\n        \"description\": \"\"\n      }\n    },\n    {\n      \"column\": \"Age\",\n      \"properties\": {\n        \"dtype\": \"number\",\n        \"std\": 10,\n        \"min\": 25,\n        \"max\": 55,\n        \"num_unique_values\": 8,\n        \"samples\": [\n          31,\n          36,\n          25\n        ],\n        \"semantic_type\": \"\",\n        \"description\": \"\"\n      }\n    },\n    {\n      \"column\": \"Profession\",\n      \"properties\": {\n        \"dtype\": \"category\",\n        \"num_unique_values\": 4,\n        \"samples\": [\n          \"\\u041c\\u0435\\u043d\\u0435\\u0434\\u0436\\u0435\\u0440\",\n          \"\\u0420\\u0430\\u0431\\u043e\\u0447\\u0438\\u0439\",\n          \"\\u041a\\u043b\\u0438\\u043d\\u0435\\u0440\"\n        ],\n        \"semantic_type\": \"\",\n        \"description\": \"\"\n      }\n    }\n  ]\n}"
            }
          },
          "metadata": {},
          "execution_count": 19
        }
      ]
    },
    {
      "cell_type": "code",
      "source": [
        "# где в городах есть буква о\n",
        "sample3 = sample[sample.City.str.contains(\"о\", na=False)]"
      ],
      "metadata": {
        "id": "hzHw7tRsyB9P"
      },
      "execution_count": null,
      "outputs": []
    },
    {
      "cell_type": "code",
      "source": [
        "# где в городах нет буквы о\n",
        "sample4 = sample[~sample.City.str.contains(\"о\", na=False)]"
      ],
      "metadata": {
        "id": "NE2lmWSWyg2G"
      },
      "execution_count": 21,
      "outputs": []
    },
    {
      "cell_type": "markdown",
      "source": [
        "Преобразование данных"
      ],
      "metadata": {
        "id": "kYbqEe3QzHrh"
      }
    },
    {
      "cell_type": "code",
      "source": [
        "#Возведём возраст в sample в квадрат:\n",
        "sample.Age.apply(lambda x:x**2)"
      ],
      "metadata": {
        "colab": {
          "base_uri": "https://localhost:8080/",
          "height": 429
        },
        "id": "uBkbNd4UzN5O",
        "outputId": "48034f5b-142e-4d30-9e27-0ba72b25ef24"
      },
      "execution_count": 22,
      "outputs": [
        {
          "output_type": "execute_result",
          "data": {
            "text/plain": [
              "0      625\n",
              "1      961\n",
              "2      625\n",
              "3     1849\n",
              "4     2500\n",
              "5      361\n",
              "6      841\n",
              "7     1024\n",
              "8     1296\n",
              "9     3025\n",
              "10    1764\n",
              "Name: Age, dtype: int64"
            ],
            "text/html": [
              "<div>\n",
              "<style scoped>\n",
              "    .dataframe tbody tr th:only-of-type {\n",
              "        vertical-align: middle;\n",
              "    }\n",
              "\n",
              "    .dataframe tbody tr th {\n",
              "        vertical-align: top;\n",
              "    }\n",
              "\n",
              "    .dataframe thead th {\n",
              "        text-align: right;\n",
              "    }\n",
              "</style>\n",
              "<table border=\"1\" class=\"dataframe\">\n",
              "  <thead>\n",
              "    <tr style=\"text-align: right;\">\n",
              "      <th></th>\n",
              "      <th>Age</th>\n",
              "    </tr>\n",
              "  </thead>\n",
              "  <tbody>\n",
              "    <tr>\n",
              "      <th>0</th>\n",
              "      <td>625</td>\n",
              "    </tr>\n",
              "    <tr>\n",
              "      <th>1</th>\n",
              "      <td>961</td>\n",
              "    </tr>\n",
              "    <tr>\n",
              "      <th>2</th>\n",
              "      <td>625</td>\n",
              "    </tr>\n",
              "    <tr>\n",
              "      <th>3</th>\n",
              "      <td>1849</td>\n",
              "    </tr>\n",
              "    <tr>\n",
              "      <th>4</th>\n",
              "      <td>2500</td>\n",
              "    </tr>\n",
              "    <tr>\n",
              "      <th>5</th>\n",
              "      <td>361</td>\n",
              "    </tr>\n",
              "    <tr>\n",
              "      <th>6</th>\n",
              "      <td>841</td>\n",
              "    </tr>\n",
              "    <tr>\n",
              "      <th>7</th>\n",
              "      <td>1024</td>\n",
              "    </tr>\n",
              "    <tr>\n",
              "      <th>8</th>\n",
              "      <td>1296</td>\n",
              "    </tr>\n",
              "    <tr>\n",
              "      <th>9</th>\n",
              "      <td>3025</td>\n",
              "    </tr>\n",
              "    <tr>\n",
              "      <th>10</th>\n",
              "      <td>1764</td>\n",
              "    </tr>\n",
              "  </tbody>\n",
              "</table>\n",
              "</div><br><label><b>dtype:</b> int64</label>"
            ]
          },
          "metadata": {},
          "execution_count": 22
        }
      ]
    },
    {
      "cell_type": "code",
      "source": [
        "def func(x):\n",
        "    if x<20:\n",
        "        return x\n",
        "    else:\n",
        "        return 0\n",
        "sample.Age.apply(func)"
      ],
      "metadata": {
        "colab": {
          "base_uri": "https://localhost:8080/",
          "height": 429
        },
        "id": "WEH78GH22Oth",
        "outputId": "b516589c-9f15-41fe-aead-5e960ee500ac"
      },
      "execution_count": 23,
      "outputs": [
        {
          "output_type": "execute_result",
          "data": {
            "text/plain": [
              "0      0\n",
              "1      0\n",
              "2      0\n",
              "3      0\n",
              "4      0\n",
              "5     19\n",
              "6      0\n",
              "7      0\n",
              "8      0\n",
              "9      0\n",
              "10     0\n",
              "Name: Age, dtype: int64"
            ],
            "text/html": [
              "<div>\n",
              "<style scoped>\n",
              "    .dataframe tbody tr th:only-of-type {\n",
              "        vertical-align: middle;\n",
              "    }\n",
              "\n",
              "    .dataframe tbody tr th {\n",
              "        vertical-align: top;\n",
              "    }\n",
              "\n",
              "    .dataframe thead th {\n",
              "        text-align: right;\n",
              "    }\n",
              "</style>\n",
              "<table border=\"1\" class=\"dataframe\">\n",
              "  <thead>\n",
              "    <tr style=\"text-align: right;\">\n",
              "      <th></th>\n",
              "      <th>Age</th>\n",
              "    </tr>\n",
              "  </thead>\n",
              "  <tbody>\n",
              "    <tr>\n",
              "      <th>0</th>\n",
              "      <td>0</td>\n",
              "    </tr>\n",
              "    <tr>\n",
              "      <th>1</th>\n",
              "      <td>0</td>\n",
              "    </tr>\n",
              "    <tr>\n",
              "      <th>2</th>\n",
              "      <td>0</td>\n",
              "    </tr>\n",
              "    <tr>\n",
              "      <th>3</th>\n",
              "      <td>0</td>\n",
              "    </tr>\n",
              "    <tr>\n",
              "      <th>4</th>\n",
              "      <td>0</td>\n",
              "    </tr>\n",
              "    <tr>\n",
              "      <th>5</th>\n",
              "      <td>19</td>\n",
              "    </tr>\n",
              "    <tr>\n",
              "      <th>6</th>\n",
              "      <td>0</td>\n",
              "    </tr>\n",
              "    <tr>\n",
              "      <th>7</th>\n",
              "      <td>0</td>\n",
              "    </tr>\n",
              "    <tr>\n",
              "      <th>8</th>\n",
              "      <td>0</td>\n",
              "    </tr>\n",
              "    <tr>\n",
              "      <th>9</th>\n",
              "      <td>0</td>\n",
              "    </tr>\n",
              "    <tr>\n",
              "      <th>10</th>\n",
              "      <td>0</td>\n",
              "    </tr>\n",
              "  </tbody>\n",
              "</table>\n",
              "</div><br><label><b>dtype:</b> int64</label>"
            ]
          },
          "metadata": {},
          "execution_count": 23
        }
      ]
    },
    {
      "cell_type": "code",
      "source": [
        "def func(x):\n",
        "    if x<20:\n",
        "        return x\n",
        "    else:\n",
        "        return 0\n",
        "sample.Age.apply(func)"
      ],
      "metadata": {
        "colab": {
          "base_uri": "https://localhost:8080/",
          "height": 429
        },
        "id": "sHz-OKxY2Z9l",
        "outputId": "70da89ac-bfc9-4472-f89a-63c166ba70e0"
      },
      "execution_count": 24,
      "outputs": [
        {
          "output_type": "execute_result",
          "data": {
            "text/plain": [
              "0      0\n",
              "1      0\n",
              "2      0\n",
              "3      0\n",
              "4      0\n",
              "5     19\n",
              "6      0\n",
              "7      0\n",
              "8      0\n",
              "9      0\n",
              "10     0\n",
              "Name: Age, dtype: int64"
            ],
            "text/html": [
              "<div>\n",
              "<style scoped>\n",
              "    .dataframe tbody tr th:only-of-type {\n",
              "        vertical-align: middle;\n",
              "    }\n",
              "\n",
              "    .dataframe tbody tr th {\n",
              "        vertical-align: top;\n",
              "    }\n",
              "\n",
              "    .dataframe thead th {\n",
              "        text-align: right;\n",
              "    }\n",
              "</style>\n",
              "<table border=\"1\" class=\"dataframe\">\n",
              "  <thead>\n",
              "    <tr style=\"text-align: right;\">\n",
              "      <th></th>\n",
              "      <th>Age</th>\n",
              "    </tr>\n",
              "  </thead>\n",
              "  <tbody>\n",
              "    <tr>\n",
              "      <th>0</th>\n",
              "      <td>0</td>\n",
              "    </tr>\n",
              "    <tr>\n",
              "      <th>1</th>\n",
              "      <td>0</td>\n",
              "    </tr>\n",
              "    <tr>\n",
              "      <th>2</th>\n",
              "      <td>0</td>\n",
              "    </tr>\n",
              "    <tr>\n",
              "      <th>3</th>\n",
              "      <td>0</td>\n",
              "    </tr>\n",
              "    <tr>\n",
              "      <th>4</th>\n",
              "      <td>0</td>\n",
              "    </tr>\n",
              "    <tr>\n",
              "      <th>5</th>\n",
              "      <td>19</td>\n",
              "    </tr>\n",
              "    <tr>\n",
              "      <th>6</th>\n",
              "      <td>0</td>\n",
              "    </tr>\n",
              "    <tr>\n",
              "      <th>7</th>\n",
              "      <td>0</td>\n",
              "    </tr>\n",
              "    <tr>\n",
              "      <th>8</th>\n",
              "      <td>0</td>\n",
              "    </tr>\n",
              "    <tr>\n",
              "      <th>9</th>\n",
              "      <td>0</td>\n",
              "    </tr>\n",
              "    <tr>\n",
              "      <th>10</th>\n",
              "      <td>0</td>\n",
              "    </tr>\n",
              "  </tbody>\n",
              "</table>\n",
              "</div><br><label><b>dtype:</b> int64</label>"
            ]
          },
          "metadata": {},
          "execution_count": 24
        }
      ]
    },
    {
      "cell_type": "code",
      "source": [
        "# С помощью apply и лямбда-функции увеличьте\n",
        "# возраст во всех записях на 1 год и сохраните в sample2.\n",
        "sample2 = sample.copy()\n",
        "sample2['Age'] = sample['Age'].apply(lambda x: x + 1)\n",
        "print(sample2)"
      ],
      "metadata": {
        "colab": {
          "base_uri": "https://localhost:8080/"
        },
        "id": "gmqzOpvj2yTT",
        "outputId": "3a0fb5b8-45a4-4397-da2a-984385c821ae"
      },
      "execution_count": 39,
      "outputs": [
        {
          "output_type": "stream",
          "name": "stdout",
          "text": [
            "            Name         City  Age Profession\n",
            "0         Иванов       Москва   25     Клинер\n",
            "1            NaN    Волгоград   31   Менеджер\n",
            "2         Иванов       Москва   25     Клинер\n",
            "3        sidorov  Владивосток   43   Менеджер\n",
            "4        _______        Курск   50   Водитель\n",
            "5       Кузнецов         Сочи   19    Рабочий\n",
            "6          Сажин       Сургут   29    Рабочий\n",
            "7   Котлеревский   Йошкар-Ола   32    Рабочий\n",
            "8     Завалишина    Чебоксары   36   Менеджер\n",
            "9         Левина          NaN   55    Рабочий\n",
            "10          Фикс         Рига   42    Рабочий\n"
          ]
        }
      ]
    },
    {
      "cell_type": "code",
      "source": [
        "#С помощью apply и lambda-функции замените\n",
        "#все буквы в поле City на маленькие и\n",
        "#сохраните в sample2. Вам может понадобиться\n",
        "#функция s.lower().\n",
        "sample2['City'] = sample.City.apply(lambda x: str(x).lower())\n",
        "print(sample2)"
      ],
      "metadata": {
        "colab": {
          "base_uri": "https://localhost:8080/"
        },
        "id": "EQo4ie3C_l3R",
        "outputId": "1d92cd07-52d3-464e-b093-4efacaf6d50c"
      },
      "execution_count": 46,
      "outputs": [
        {
          "output_type": "stream",
          "name": "stdout",
          "text": [
            "            Name         City  Age Profession\n",
            "0         Иванов       москва   25     Клинер\n",
            "1            NaN    волгоград   31   Менеджер\n",
            "2         Иванов       москва   25     Клинер\n",
            "3        sidorov  владивосток   43   Менеджер\n",
            "4        _______        курск   50   Водитель\n",
            "5       Кузнецов         сочи   19    Рабочий\n",
            "6          Сажин       сургут   29    Рабочий\n",
            "7   Котлеревский   йошкар-ола   32    Рабочий\n",
            "8     Завалишина    чебоксары   36   Менеджер\n",
            "9         Левина          nan   55    Рабочий\n",
            "10          Фикс         рига   42    Рабочий\n"
          ]
        }
      ]
    },
    {
      "cell_type": "code",
      "source": [
        "def profession_code(value:str):\n",
        "    if value == 'Рабочий':\n",
        "        return 0\n",
        "    if value == 'Менеджер':\n",
        "        return 1\n",
        "    else:\n",
        "        return 2\n",
        "\n",
        "sample2['Profession'] = sample2.apply(lambda x: profession_code(x['Profession']), axis = 1)\n",
        "print(sample2)"
      ],
      "metadata": {
        "colab": {
          "base_uri": "https://localhost:8080/"
        },
        "id": "EdKnShPCAjHX",
        "outputId": "04462554-ae83-4e94-ccd7-7a443e15451e"
      },
      "execution_count": 56,
      "outputs": [
        {
          "output_type": "stream",
          "name": "stdout",
          "text": [
            "            Name         City  Age  Profession\n",
            "0         Иванов       москва   25           2\n",
            "1            NaN    волгоград   31           2\n",
            "2         Иванов       москва   25           2\n",
            "3        sidorov  владивосток   43           2\n",
            "4        _______        курск   50           2\n",
            "5       Кузнецов         сочи   19           2\n",
            "6          Сажин       сургут   29           2\n",
            "7   Котлеревский   йошкар-ола   32           2\n",
            "8     Завалишина    чебоксары   36           2\n",
            "9         Левина          nan   55           2\n",
            "10          Фикс         рига   42           2\n"
          ]
        }
      ]
    },
    {
      "cell_type": "code",
      "source": [
        "def age_category(age):\n",
        "    if age < 23:\n",
        "        return \"молодой\"\n",
        "    if 23 <= age <= 35:\n",
        "        return \"средний\"\n",
        "    else:\n",
        "        return \"зрелый\"\n",
        "\n",
        "sample['Age_category'] = sample.apply(lambda x: age_category(x['Age']), axis = 1)\n",
        "print(sample)"
      ],
      "metadata": {
        "colab": {
          "base_uri": "https://localhost:8080/"
        },
        "id": "m9nakgTrC8qs",
        "outputId": "0fb5dcb3-33a3-4e1c-9632-e4bd8f29d056"
      },
      "execution_count": 62,
      "outputs": [
        {
          "output_type": "stream",
          "name": "stdout",
          "text": [
            "            Name         City  Age Profession Age_category\n",
            "0         Иванов       Москва   25     Клинер      средний\n",
            "1            NaN    Волгоград   31   Менеджер      средний\n",
            "2         Иванов       Москва   25     Клинер      средний\n",
            "3        sidorov  Владивосток   43   Менеджер       зрелый\n",
            "4        _______        Курск   50   Водитель       зрелый\n",
            "5       Кузнецов         Сочи   19    Рабочий      молодой\n",
            "6          Сажин       Сургут   29    Рабочий      средний\n",
            "7   Котлеревский   Йошкар-Ола   32    Рабочий      средний\n",
            "8     Завалишина    Чебоксары   36   Менеджер       зрелый\n",
            "9         Левина          NaN   55    Рабочий       зрелый\n",
            "10          Фикс         Рига   42    Рабочий       зрелый\n"
          ]
        }
      ]
    },
    {
      "cell_type": "code",
      "source": [
        "#Преобразуем поле user_id в датафрейме log,\n",
        "#оставив только идентификатор пользователя.\n",
        "#Например, вместо \"Запись пользователя\n",
        "#№ — user_974\" должно остаться только \"user_974\".\n",
        "\n",
        "log = pd.read_csv('log.csv', header = None)\n",
        "log.columns = ['user_id','time','bet','win']\n",
        "\n",
        "#log['user_id'] = log['user_id'].replace(\"Запись пользователя № - \", \"\")\n",
        "#log['user_id'] = log['user_id'].replace(\"#error\", \"\")\n",
        "# Функция для извлечения user_id\n",
        "def extract_user_id(text):\n",
        "    if text.startswith('Запись пользователя № - '):\n",
        "        return text.split(' - ')[1].strip()\n",
        "    else:\n",
        "        return text\n",
        "\n",
        "# Применение функции к столбцу 'user_id'\n",
        "log['user_id'] = log['user_id'].apply(lambda x: extract_user_id(x))\n",
        "log['user_id'] = log['user_id'].replace(\"#error\", \"\")\n",
        "print(log)"
      ],
      "metadata": {
        "colab": {
          "base_uri": "https://localhost:8080/"
        },
        "id": "hbOyk_ZSEwL2",
        "outputId": "3b1c5cf5-d9c1-4dd3-80db-7b2b51d16965"
      },
      "execution_count": 121,
      "outputs": [
        {
          "output_type": "stream",
          "name": "stdout",
          "text": [
            "      user_id                  time      bet      win\n",
            "0    user_919  [2019-01-01 14:06:51      NaN      NaN\n",
            "1    user_973  [2019-01-01 14:51:16      NaN      NaN\n",
            "2    user_903  [2019-01-01 16:31:16      NaN      NaN\n",
            "3    user_954  [2019-01-01 17:17:51      NaN      NaN\n",
            "4    user_954  [2019-01-01 21:31:18      NaN      NaN\n",
            "..        ...                   ...      ...      ...\n",
            "995  user_984   [2019-04-20 9:59:58   9754.0      NaN\n",
            "996                             NaN  10054.0  29265.0\n",
            "997                             NaN  10454.0      NaN\n",
            "998                             NaN   1000.0      NaN\n",
            "999                             NaN  10754.0      NaN\n",
            "\n",
            "[1000 rows x 4 columns]\n"
          ]
        }
      ]
    },
    {
      "cell_type": "code",
      "source": [
        "# Загрузите log.csv в log.\n",
        "# Удалите квадратную скобку из первой строки\n",
        "# в столбце time, чтобы привести его к более\n",
        "# привычному формату: t равен log.time[0].\n",
        "# Сохраните результат в t:\n",
        "log = pd.read_csv(\"log.csv\", header = None)\n",
        "log.columns = ['user_id','time','bet','win']\n",
        "t = log.time[0]\n",
        "# Удалите квадратную скобку из t, чтобы привести его к более привычному формату\n",
        "t = t.replace(\"[\", '')\n",
        "print(t)"
      ],
      "metadata": {
        "colab": {
          "base_uri": "https://localhost:8080/"
        },
        "id": "UbCqrsqoM1p4",
        "outputId": "3d0e57e6-10a5-46dd-d77f-3561a709ec01"
      },
      "execution_count": 133,
      "outputs": [
        {
          "output_type": "stream",
          "name": "stdout",
          "text": [
            "2019-01-01 14:06:51\n"
          ]
        }
      ]
    },
    {
      "cell_type": "code",
      "source": [
        "log['time'] = log['time'].str.replace(\"[\", \"\")\n",
        "print(log)\n",
        "#log['user_id'] = log['user_id'].apply(lambda x: extract_user_id(x))"
      ],
      "metadata": {
        "colab": {
          "base_uri": "https://localhost:8080/"
        },
        "id": "JwKy4ILUOvSL",
        "outputId": "28408dfb-f616-4ea7-c529-edcf74bb2e5b"
      },
      "execution_count": 138,
      "outputs": [
        {
          "output_type": "stream",
          "name": "stdout",
          "text": [
            "                              user_id                 time      bet      win\n",
            "0    Запись пользователя № - user_919  2019-01-01 14:06:51      NaN      NaN\n",
            "1    Запись пользователя № - user_973  2019-01-01 14:51:16      NaN      NaN\n",
            "2    Запись пользователя № - user_903  2019-01-01 16:31:16      NaN      NaN\n",
            "3    Запись пользователя № - user_954  2019-01-01 17:17:51      NaN      NaN\n",
            "4    Запись пользователя № - user_954  2019-01-01 21:31:18      NaN      NaN\n",
            "..                                ...                  ...      ...      ...\n",
            "995  Запись пользователя № - user_984   2019-04-20 9:59:58   9754.0      NaN\n",
            "996                            #error                  NaN  10054.0  29265.0\n",
            "997                            #error                  NaN  10454.0      NaN\n",
            "998                            #error                  NaN   1000.0      NaN\n",
            "999                            #error                  NaN  10754.0      NaN\n",
            "\n",
            "[1000 rows x 4 columns]\n"
          ]
        }
      ]
    },
    {
      "cell_type": "code",
      "source": [
        "#Финал\n",
        "def extract_user_id(text):\n",
        "    if text.startswith('Запись пользователя № - '):\n",
        "        return text.split(' - ')[1].strip()\n",
        "    else:\n",
        "        return text\n",
        "\n",
        "log = pd.read_csv('log.csv', header = None)\n",
        "log.columns = ['user_id','time','bet','win']\n",
        "log = log[~log.user_id.str.contains(\"#error\", na = False)]\n",
        "log['user_id'] = log['user_id'].apply(lambda x: extract_user_id(x))\n",
        "log['time'] = log['time'].str.replace(\"[\", \"\")\n",
        "print(log)"
      ],
      "metadata": {
        "colab": {
          "base_uri": "https://localhost:8080/"
        },
        "id": "wBw15-BhP6RB",
        "outputId": "52d4834c-dfb3-4849-a04f-eb49d0baaf1e"
      },
      "execution_count": 143,
      "outputs": [
        {
          "output_type": "stream",
          "name": "stdout",
          "text": [
            "      user_id                 time      bet     win\n",
            "0    user_919  2019-01-01 14:06:51      NaN     NaN\n",
            "1    user_973  2019-01-01 14:51:16      NaN     NaN\n",
            "2    user_903  2019-01-01 16:31:16      NaN     NaN\n",
            "3    user_954  2019-01-01 17:17:51      NaN     NaN\n",
            "4    user_954  2019-01-01 21:31:18      NaN     NaN\n",
            "..        ...                  ...      ...     ...\n",
            "991  user_965  2019-04-20 12:55:41    800.0  6927.0\n",
            "992  user_967  2019-04-20 14:59:36  10154.0     NaN\n",
            "993  user_973  2019-04-20 17:09:56  10254.0     NaN\n",
            "994  user_977  2019-04-20 18:10:07  10354.0     NaN\n",
            "995  user_984   2019-04-20 9:59:58   9754.0     NaN\n",
            "\n",
            "[985 rows x 4 columns]\n"
          ]
        }
      ]
    }
  ]
}