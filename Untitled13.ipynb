{
  "nbformat": 4,
  "nbformat_minor": 0,
  "metadata": {
    "colab": {
      "name": "Untitled13.ipynb",
      "provenance": [],
      "authorship_tag": "ABX9TyOvtgq/pOmArXeJT4OQtUiN",
      "include_colab_link": true
    },
    "kernelspec": {
      "name": "python3",
      "display_name": "Python 3"
    },
    "language_info": {
      "name": "python"
    }
  },
  "cells": [
    {
      "cell_type": "markdown",
      "metadata": {
        "id": "view-in-github",
        "colab_type": "text"
      },
      "source": [
        "<a href=\"https://colab.research.google.com/github/Ellana555/Skillfactory/blob/main/Untitled13.ipynb\" target=\"_parent\"><img src=\"https://colab.research.google.com/assets/colab-badge.svg\" alt=\"Open In Colab\"/></a>"
      ]
    },
    {
      "cell_type": "code",
      "execution_count": 2,
      "metadata": {
        "id": "vX20A8SQwaBp"
      },
      "outputs": [],
      "source": [
        "import numpy as np\n",
        "data = np.array([4, 9, -4, 3])"
      ]
    },
    {
      "cell_type": "code",
      "source": [
        "roots = np.sqrt(data)\n",
        "roots\n",
        "# RuntimeWarning: invalid value encountered in sqrt\n",
        "# array([2.        , 3.        ,        nan, 1.73205081])"
      ],
      "metadata": {
        "colab": {
          "base_uri": "https://localhost:8080/"
        },
        "id": "vwI-15cewsYX",
        "outputId": "b45f046c-2797-42cf-e510-d5a4c48de43d"
      },
      "execution_count": 3,
      "outputs": [
        {
          "output_type": "stream",
          "name": "stderr",
          "text": [
            "/usr/local/lib/python3.7/dist-packages/ipykernel_launcher.py:1: RuntimeWarning: invalid value encountered in sqrt\n",
            "  \"\"\"Entry point for launching an IPython kernel.\n"
          ]
        },
        {
          "output_type": "execute_result",
          "data": {
            "text/plain": [
              "array([2.        , 3.        ,        nan, 1.73205081])"
            ]
          },
          "metadata": {},
          "execution_count": 3
        }
      ]
    },
    {
      "cell_type": "code",
      "source": [
        "np.isnan(roots)\n",
        "# array([False, False,  True, False])"
      ],
      "metadata": {
        "colab": {
          "base_uri": "https://localhost:8080/"
        },
        "id": "b0ZjJbnTwd_D",
        "outputId": "af6ee773-fb64-4e23-b20e-4607a80db788"
      },
      "execution_count": 4,
      "outputs": [
        {
          "output_type": "execute_result",
          "data": {
            "text/plain": [
              "array([False, False,  True, False])"
            ]
          },
          "metadata": {},
          "execution_count": 4
        }
      ]
    },
    {
      "cell_type": "code",
      "source": [
        "roots[np.isnan(roots)]\n",
        "# array([nan])"
      ],
      "metadata": {
        "colab": {
          "base_uri": "https://localhost:8080/"
        },
        "id": "JnH0ovNSw2qE",
        "outputId": "234d3e0a-dab4-4af6-89d8-782c02d96109"
      },
      "execution_count": 5,
      "outputs": [
        {
          "output_type": "execute_result",
          "data": {
            "text/plain": [
              "array([nan])"
            ]
          },
          "metadata": {},
          "execution_count": 5
        }
      ]
    },
    {
      "cell_type": "code",
      "source": [
        "roots[np.isnan(roots)] = 0\n",
        "roots\n",
        "# array([2.        , 3.        , 0.        , 1.73205081])"
      ],
      "metadata": {
        "colab": {
          "base_uri": "https://localhost:8080/"
        },
        "id": "ZXWQJChpxFMg",
        "outputId": "c6352c64-30f7-4a76-92bc-39e50958bf3a"
      },
      "execution_count": 6,
      "outputs": [
        {
          "output_type": "execute_result",
          "data": {
            "text/plain": [
              "array([2.        , 3.        , 0.        , 1.73205081])"
            ]
          },
          "metadata": {},
          "execution_count": 6
        }
      ]
    },
    {
      "cell_type": "code",
      "source": [
        "sum(roots)\n",
        "# 6.732050807568877"
      ],
      "metadata": {
        "colab": {
          "base_uri": "https://localhost:8080/"
        },
        "id": "SySIFV8xxSve",
        "outputId": "ebeea9b9-f53a-44ba-e50d-01166435a10e"
      },
      "execution_count": 7,
      "outputs": [
        {
          "output_type": "execute_result",
          "data": {
            "text/plain": [
              "6.732050807568877"
            ]
          },
          "metadata": {},
          "execution_count": 7
        }
      ]
    },
    {
      "cell_type": "code",
      "source": [
        "import numpy as np\n",
        "try:\n",
        "    from Root.src.hidden import mystery\n",
        "except ImportError:\n",
        "    from hidden import mystery\n",
        "# Получите булевый массив с информацией о np.nan в массиве mystery\n",
        "# True - значение пропущено, False - значение не пропущено\n",
        "nans_index = np.isnan(mystery)\n",
        "\n",
        "# В переменную n_nan сохраните число пропущенных значений\n",
        "n_nan = len(mystery[np.isnan(mystery)])\n",
        "\n",
        "# Заполните пропущенные значения в массиве mystery нулями\n",
        "\n",
        "mystery[np.isnan(mystery)] = 0\n",
        "\n",
        "\n",
        "# Поменяйте тип данных в массиве mystery на int32\n",
        "\n",
        "np.array(mystery, dtype = 'int32')\n",
        "\n",
        "# Отсортируйте значения в массиве по возрастанию и сохраните\n",
        "# результат в переменную array\n",
        "array = np.sort(mystery)\n",
        "\n",
        "# Сохраните в массив table двухмерный массив, полученный из массива array\n",
        "# В нём должно быть 5 строк и 3 столбца. Причём порядок заполнения должен быть\n",
        "# по столбцам! Например, 1, 2, 3, 4 -> 1    3\n",
        "#                                      2    4\n",
        "table = array.reshape((5,3), order = 'F')\n",
        "\n",
        "print(table)\n",
        "\n",
        "#  Сохраните в переменную col средний столбец из table\n",
        "col = table[:, 1]\n"
      ],
      "metadata": {
        "id": "lLrl0RI83KKj"
      },
      "execution_count": null,
      "outputs": []
    }
  ]
}