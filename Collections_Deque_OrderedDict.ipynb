{
  "nbformat": 4,
  "nbformat_minor": 0,
  "metadata": {
    "colab": {
      "name": "Collections_Deque_OrderedDict.ipynb",
      "provenance": [],
      "authorship_tag": "ABX9TyNJf+HdpIrBHMMZ/tbx3c93",
      "include_colab_link": true
    },
    "kernelspec": {
      "name": "python3",
      "display_name": "Python 3"
    },
    "language_info": {
      "name": "python"
    }
  },
  "cells": [
    {
      "cell_type": "markdown",
      "metadata": {
        "id": "view-in-github",
        "colab_type": "text"
      },
      "source": [
        "<a href=\"https://colab.research.google.com/github/Ellana555/Skillfactory/blob/main/Collections_Deque_OrderedDict.ipynb\" target=\"_parent\"><img src=\"https://colab.research.google.com/assets/colab-badge.svg\" alt=\"Open In Colab\"/></a>"
      ]
    },
    {
      "cell_type": "code",
      "execution_count": null,
      "metadata": {
        "colab": {
          "base_uri": "https://localhost:8080/"
        },
        "id": "zHRVUNefF9e-",
        "outputId": "8221c587-ddab-47ac-c902-9fee279405ea"
      },
      "outputs": [
        {
          "output_type": "stream",
          "name": "stdout",
          "text": [
            "{'Ivan': 19, 'Mark': 25, 'Andrey': 23, 'Maria': 20}\n"
          ]
        }
      ],
      "source": [
        "# Напоминаем способ создания словаря через список кортежей\n",
        "# (ключ, значение)\n",
        "data = [('Ivan', 19),('Mark', 25),('Andrey', 23),('Maria', 20)]\n",
        "client_ages = dict(data)\n",
        "print(client_ages)\n",
        "# По результатам 3 повторов получились вот такие результаты в старых версиях:\n",
        "# {'Maria': 20, 'Mark': 25, 'Ivan': 19, 'Andrey': 23}\n",
        "# {'Ivan': 19, 'Andrey': 23, 'Mark': 25, 'Maria': 20}\n",
        "# {'Andrey': 23, 'Mark': 25, 'Maria': 20, 'Ivan': 19}"
      ]
    },
    {
      "cell_type": "code",
      "source": [
        "data = [('Ivan', 19),('Mark', 25),('Andrey', 23),('Maria', 20)]\n",
        "# Сортируем по второму значению из кортежа, то есть по возрасту\n",
        "ordered_client_ages = OrderedDict(sorted(data, key=lambda x: x[1], reverse=True))\n",
        "print(ordered_client_ages)\n",
        "# OrderedDict([('Ivan', 19), ('Maria', 20), ('Andrey', 23), ('Mark', 25)])"
      ],
      "metadata": {
        "colab": {
          "base_uri": "https://localhost:8080/"
        },
        "id": "DU2zbaY8cSBQ",
        "outputId": "341dab09-57ff-4352-896c-4ede5f490128"
      },
      "execution_count": null,
      "outputs": [
        {
          "output_type": "stream",
          "name": "stdout",
          "text": [
            "OrderedDict([('Mark', 25), ('Andrey', 23), ('Maria', 20), ('Ivan', 19)])\n"
          ]
        }
      ]
    },
    {
      "cell_type": "code",
      "source": [
        "from collections import OrderedDict\n",
        "data = [('Ivan', 19),('Mark', 25),('Andrey', 23),('Maria', 20)]\n",
        "ordered_client_ages = OrderedDict(data)\n",
        "print(ordered_client_ages)\n",
        "# По результатам 3 повторов получились вот такие результаты:\n",
        "# OrderedDict([('Ivan', 19), ('Mark', 25), ('Andrey', 23), ('Maria', 20)])\n",
        "# OrderedDict([('Ivan', 19), ('Mark', 25), ('Andrey', 23), ('Maria', 20)])\n",
        "# OrderedDict([('Ivan', 19), ('Mark', 25), ('Andrey', 23), ('Maria', 20)])"
      ],
      "metadata": {
        "colab": {
          "base_uri": "https://localhost:8080/"
        },
        "id": "S2k3sM8PHos_",
        "outputId": "25f4d7ea-5de3-439a-f0be-f70586104dc2"
      },
      "execution_count": null,
      "outputs": [
        {
          "output_type": "stream",
          "name": "stdout",
          "text": [
            "OrderedDict([('Ivan', 19), ('Mark', 25), ('Andrey', 23), ('Maria', 20)])\n"
          ]
        }
      ]
    },
    {
      "cell_type": "code",
      "source": [
        "from collections import OrderedDict\n",
        "temps = [('2000', -4.4), ('2001', -2.5), ('2002', -4.4), ('2003', -9.5),\n",
        "        ('2004', -8.2), ('2005', -1.6), ('2006', -5.9), ('2007', -2.4),\n",
        "        ('2008', -1.7), ('2009', -3.5), ('2010', -12.1), ('2011', -5.8),\n",
        "        ('2012', -4.9), ('2013', -6.1), ('2014', -6.9), ('2015', -2.7),\n",
        "        ('2016', -11.2), ('2017', -3.9), ('2018', -2.9), ('2019', -6.5),\n",
        "        ('2020', 1.5)]\n",
        "         \n",
        "ordered_temps = sorted(temps, key=lambda x: x[1], reverse=True)\n",
        "print(OrderedDict(ordered_temps))"
      ],
      "metadata": {
        "colab": {
          "base_uri": "https://localhost:8080/"
        },
        "id": "8hbHdQ0neQrH",
        "outputId": "abed8225-4480-42dd-c744-65ab8dd835c0"
      },
      "execution_count": null,
      "outputs": [
        {
          "output_type": "stream",
          "name": "stdout",
          "text": [
            "OrderedDict([('2020', 1.5), ('2005', -1.6), ('2008', -1.7), ('2007', -2.4), ('2001', -2.5), ('2015', -2.7), ('2018', -2.9), ('2009', -3.5), ('2017', -3.9), ('2000', -4.4), ('2002', -4.4), ('2012', -4.9), ('2011', -5.8), ('2006', -5.9), ('2013', -6.1), ('2019', -6.5), ('2014', -6.9), ('2004', -8.2), ('2003', -9.5), ('2016', -11.2), ('2010', -12.1)])\n"
          ]
        }
      ]
    },
    {
      "cell_type": "markdown",
      "source": [
        "ИСПОЛЬЗОВАНИЕ DEQUE"
      ],
      "metadata": {
        "id": "jtttJGIGIq6d"
      }
    },
    {
      "cell_type": "code",
      "source": [
        "from collections import deque\n",
        "dq = deque()\n",
        "print(dq)\n",
        "# deque([])"
      ],
      "metadata": {
        "colab": {
          "base_uri": "https://localhost:8080/"
        },
        "id": "E4i6FNOyIps9",
        "outputId": "356011f6-b798-434d-f316-6a477c205d32"
      },
      "execution_count": null,
      "outputs": [
        {
          "output_type": "stream",
          "name": "stdout",
          "text": [
            "deque([])\n"
          ]
        }
      ]
    },
    {
      "cell_type": "code",
      "source": [
        "clients = deque()\n",
        "clients.append('Ivanov')\n",
        "clients.append('Petrov')\n",
        "clients.append('Smirnov')\n",
        "clients.append('Tikhonova')\n",
        "print(clients)\n",
        "# deque(['Ivanov', 'Petrov', 'Smirnov', 'Tikhonova'])"
      ],
      "metadata": {
        "colab": {
          "base_uri": "https://localhost:8080/"
        },
        "id": "32bO0ZEhJTv2",
        "outputId": "3d6087c8-ffa3-4327-8742-9ad64687cd20"
      },
      "execution_count": null,
      "outputs": [
        {
          "output_type": "stream",
          "name": "stdout",
          "text": [
            "deque(['Ivanov', 'Petrov', 'Smirnov', 'Tikhonova'])\n"
          ]
        }
      ]
    },
    {
      "cell_type": "code",
      "source": [
        "print(clients[2])\n",
        "# Smirnov"
      ],
      "metadata": {
        "colab": {
          "base_uri": "https://localhost:8080/"
        },
        "id": "hQ0kVn8_JcBt",
        "outputId": "c24e5caf-fe80-4c6a-b0a3-603cd6a36fdd"
      },
      "execution_count": null,
      "outputs": [
        {
          "output_type": "stream",
          "name": "stdout",
          "text": [
            "Smirnov\n"
          ]
        }
      ]
    },
    {
      "cell_type": "code",
      "source": [
        "first_client = clients.popleft()\n",
        "second_client = clients.popleft()\n",
        " \n",
        "print(\"First client:\", first_client)\n",
        "print(\"Second client:\", second_client)\n",
        "print(clients)\n",
        "# First client: Ivanov\n",
        "# Second client: Petrov\n",
        "# deque(['Smirnov', 'Tikhonova'])"
      ],
      "metadata": {
        "colab": {
          "base_uri": "https://localhost:8080/"
        },
        "id": "hAOuZkn5Jgr8",
        "outputId": "acd06bc2-2b02-48da-c3ef-4c8197e485a3"
      },
      "execution_count": null,
      "outputs": [
        {
          "output_type": "stream",
          "name": "stdout",
          "text": [
            "First client: Ivanov\n",
            "Second client: Petrov\n",
            "deque(['Smirnov', 'Tikhonova'])\n"
          ]
        }
      ]
    },
    {
      "cell_type": "code",
      "source": [
        "clients.appendleft('Vip-client')\n",
        " \n",
        "print(clients)\n",
        "# deque(['Vip-client', 'Smirnov', 'Tikhonova'])"
      ],
      "metadata": {
        "colab": {
          "base_uri": "https://localhost:8080/"
        },
        "id": "2_uVp9YIJv4s",
        "outputId": "ecd4c78b-30c2-4be0-967c-3e41856cc319"
      },
      "execution_count": null,
      "outputs": [
        {
          "output_type": "stream",
          "name": "stdout",
          "text": [
            "deque(['Vip-client', 'Smirnov', 'Tikhonova'])\n"
          ]
        }
      ]
    },
    {
      "cell_type": "code",
      "source": [
        "tired_client = clients.pop()\n",
        "print(tired_client, \"left the queue\")\n",
        "print(clients)\n",
        "# Tikhonova left the queue\n",
        "# deque(['Vip-client', 'Smirnov'])"
      ],
      "metadata": {
        "colab": {
          "base_uri": "https://localhost:8080/"
        },
        "id": "Y97TNfXsJ92V",
        "outputId": "52f24c3d-3e66-4873-951b-ee2ca41b4a85"
      },
      "execution_count": null,
      "outputs": [
        {
          "output_type": "stream",
          "name": "stdout",
          "text": [
            "Tikhonova left the queue\n",
            "deque(['Vip-client', 'Smirnov'])\n"
          ]
        }
      ]
    },
    {
      "cell_type": "code",
      "source": [
        "clients = deque(['Ivanov', 'Petrov', 'Smirnov', 'Tikhonova'])\n",
        "print(clients)\n",
        "# deque(['Ivanov', 'Petrov', 'Smirnov', 'Tikhonova'])\n",
        "del clients[2]\n",
        "print(clients)\n",
        "# deque(['Ivanov', 'Petrov', 'Tikhonova'])"
      ],
      "metadata": {
        "colab": {
          "base_uri": "https://localhost:8080/"
        },
        "id": "3kOzoZnZLfgZ",
        "outputId": "29311e59-13bd-41ca-adcd-8d289361bf35"
      },
      "execution_count": null,
      "outputs": [
        {
          "output_type": "stream",
          "name": "stdout",
          "text": [
            "deque(['Ivanov', 'Petrov', 'Smirnov', 'Tikhonova'])\n",
            "deque(['Ivanov', 'Petrov', 'Tikhonova'])\n"
          ]
        }
      ]
    },
    {
      "cell_type": "code",
      "source": [
        "# В скобках передаём список при создании deque,\n",
        "# чтобы сразу добавить все его элементы в очередь\n",
        "shop = deque([1, 2, 3, 4, 5])\n",
        "print(shop)\n",
        "# deque([1, 2, 3, 4, 5])\n",
        "shop.extend([11, 12, 13, 14, 15, 16, 17])\n",
        "print(shop)\n",
        "# deque([1, 2, 3, 4, 5, 11, 12, 13, 14, 15, 16, 17])"
      ],
      "metadata": {
        "colab": {
          "base_uri": "https://localhost:8080/"
        },
        "id": "lDsIu0DBNDSf",
        "outputId": "5139f596-76ae-427f-dc36-097aa3b6c8ea"
      },
      "execution_count": null,
      "outputs": [
        {
          "output_type": "stream",
          "name": "stdout",
          "text": [
            "deque([1, 2, 3, 4, 5])\n",
            "deque([1, 2, 3, 4, 5, 11, 12, 13, 14, 15, 16, 17])\n"
          ]
        }
      ]
    },
    {
      "cell_type": "code",
      "source": [
        "shop = deque([1, 2, 3, 4, 5])\n",
        "print(shop)\n",
        "# deque([1, 2, 3, 4, 5])\n",
        "shop.extendleft([11, 12, 13, 14, 15, 16, 17])\n",
        "print(shop)\n",
        "# deque([17, 16, 15, 14, 13, 12, 11, 1, 2, 3, 4, 5])"
      ],
      "metadata": {
        "colab": {
          "base_uri": "https://localhost:8080/"
        },
        "id": "K-W4D9VZOgAH",
        "outputId": "9b69a202-c9c8-4935-c049-ca4907b22cff"
      },
      "execution_count": null,
      "outputs": [
        {
          "output_type": "stream",
          "name": "stdout",
          "text": [
            "deque([1, 2, 3, 4, 5])\n",
            "deque([17, 16, 15, 14, 13, 12, 11, 1, 2, 3, 4, 5])\n"
          ]
        }
      ]
    },
    {
      "cell_type": "code",
      "source": [
        "limited = deque(maxlen=3)\n",
        "print(limited)\n",
        "# deque([], maxlen=3)\n",
        " \n",
        "limited_from_list = deque([1,3,4,5,6,7], maxlen=3)\n",
        "print(limited_from_list)\n",
        "# deque([5, 6, 7], maxlen=3)"
      ],
      "metadata": {
        "colab": {
          "base_uri": "https://localhost:8080/"
        },
        "id": "0BbsTJy5Oq83",
        "outputId": "e3b00704-126e-41b7-f8b5-ad81c0969aaa"
      },
      "execution_count": null,
      "outputs": [
        {
          "output_type": "stream",
          "name": "stdout",
          "text": [
            "deque([], maxlen=3)\n",
            "deque([5, 6, 7], maxlen=3)\n"
          ]
        }
      ]
    },
    {
      "cell_type": "code",
      "source": [
        "limited.extend([1,2,3])\n",
        "print(limited)\n",
        "# deque([1, 2, 3], maxlen=3)\n",
        " \n",
        "print(limited.append(8))\n",
        "# None\n",
        "print(limited)\n",
        "# deque([2, 3, 8], maxlen=3)"
      ],
      "metadata": {
        "colab": {
          "base_uri": "https://localhost:8080/"
        },
        "id": "oiSGUlwgPjgV",
        "outputId": "aee0d266-3150-4b17-defb-8b4c0a69f151"
      },
      "execution_count": null,
      "outputs": [
        {
          "output_type": "stream",
          "name": "stdout",
          "text": [
            "deque([1, 2, 3], maxlen=3)\n",
            "None\n",
            "deque([2, 3, 8], maxlen=3)\n"
          ]
        }
      ]
    },
    {
      "cell_type": "code",
      "source": [
        "temps = [20.6, 19.4, 19.0, 19.0, 22.1,\n",
        "        22.5, 22.8, 24.1, 25.6, 27.0,\n",
        "        27.0, 25.6, 26.8, 27.3, 22.5,\n",
        "        25.4, 24.4, 23.7, 23.6, 22.6,\n",
        "        20.4, 17.9, 17.3, 17.3, 18.1,\n",
        "        20.1, 22.2, 19.8, 21.3, 21.3,\n",
        "        21.9]"
      ],
      "metadata": {
        "id": "ncfH7wZoQD48"
      },
      "execution_count": null,
      "outputs": []
    },
    {
      "cell_type": "code",
      "source": [
        "days = deque(maxlen=7)\n",
        " \n",
        "for temp in temps:\n",
        "    # Добавляем температуру в очередь\n",
        "    days.append(temp)\n",
        "    # Если длина очереди оказалась равной максимальной длине очереди (7),\n",
        "    # печатаем среднюю температуру за последние 7 дней\n",
        "    if len(days) == days.maxlen:\n",
        "        print(round(sum(days) / len(days), 2), end='; ')\n",
        "# Напечатаем пустую строку, чтобы завершить действие параметра\n",
        "# end. Иначе следующая строка окажется напечатанной на предыдущей\n",
        "print(\"\")\n",
        "# Результат:\n",
        "# 20.77; 21.27; 22.16; 23.3; 24.44; 24.94; 25.56; 26.2; 25.97;\n",
        "# 25.94; 25.57; 25.1; 24.81; 24.21; 23.23; 22.57; 21.41; 20.4;\n",
        "# 19.6; 19.1; 19.04; 18.96; 19.44; 20.01; 20.67;"
      ],
      "metadata": {
        "colab": {
          "base_uri": "https://localhost:8080/"
        },
        "id": "v0XJoPmRQIZT",
        "outputId": "41b41fc0-7c20-422d-ef12-0ec3395da7b4"
      },
      "execution_count": null,
      "outputs": [
        {
          "output_type": "stream",
          "name": "stdout",
          "text": [
            "20.77; 21.27; 22.16; 23.3; 24.44; 24.94; 25.56; 26.2; 25.97; 25.94; 25.57; 25.1; 24.81; 24.21; 23.23; 22.57; 21.41; 20.4; 19.6; 19.1; 19.04; 18.96; 19.44; 20.01; 20.67; \n"
          ]
        }
      ]
    },
    {
      "cell_type": "code",
      "source": [
        "dq = deque([1,2,3,4,5])\n",
        "print(dq)\n",
        "# deque([1, 2, 3, 4, 5])\n",
        " \n",
        "dq.reverse()\n",
        "print(dq)\n",
        "# deque([5, 4, 3, 2, 1])"
      ],
      "metadata": {
        "colab": {
          "base_uri": "https://localhost:8080/"
        },
        "id": "9Fx9TN9iR6mY",
        "outputId": "2a969555-584e-42bc-afea-106ecd4f8126"
      },
      "execution_count": null,
      "outputs": [
        {
          "output_type": "stream",
          "name": "stdout",
          "text": [
            "deque([1, 2, 3, 4, 5])\n",
            "deque([5, 4, 3, 2, 1])\n"
          ]
        }
      ]
    },
    {
      "cell_type": "code",
      "source": [
        "dq = deque([1,2,3,4,5])\n",
        "print(dq)\n",
        "# deque([1, 2, 3, 4, 5])\n",
        " \n",
        "dq.rotate(2)\n",
        "print(dq)\n",
        "# deque([4, 5, 1, 2, 3])"
      ],
      "metadata": {
        "colab": {
          "base_uri": "https://localhost:8080/"
        },
        "id": "JVoP_8pFSccP",
        "outputId": "dcee2390-2fc7-48ba-adb1-a857611d567d"
      },
      "execution_count": null,
      "outputs": [
        {
          "output_type": "stream",
          "name": "stdout",
          "text": [
            "deque([1, 2, 3, 4, 5])\n",
            "deque([4, 5, 1, 2, 3])\n"
          ]
        }
      ]
    },
    {
      "cell_type": "code",
      "source": [
        "dq = deque([1,2,3,4,5])\n",
        "print(dq)\n",
        "# deque([1, 2, 3, 4, 5])\n",
        " \n",
        "# Отрицательное значение аргумента переносит\n",
        "# n элементов из начала в конец\n",
        "dq.rotate(-2)\n",
        "print(dq)\n",
        "# deque([3, 4, 5, 1, 2])"
      ],
      "metadata": {
        "colab": {
          "base_uri": "https://localhost:8080/"
        },
        "id": "a0s3XpOkSzr3",
        "outputId": "2761f486-6960-4393-a0d4-6c4dc335b62b"
      },
      "execution_count": null,
      "outputs": [
        {
          "output_type": "stream",
          "name": "stdout",
          "text": [
            "deque([1, 2, 3, 4, 5])\n",
            "deque([3, 4, 5, 1, 2])\n"
          ]
        }
      ]
    },
    {
      "cell_type": "code",
      "source": [
        "dq = [1,2,4,2,3,1,5,4,4,4,4,4,3]\n",
        "print(dq.index(4))\n",
        "# 2\n",
        "print(dq.count(4))\n",
        "# 6"
      ],
      "metadata": {
        "colab": {
          "base_uri": "https://localhost:8080/"
        },
        "id": "FUOLHf_vTpOA",
        "outputId": "b05ad9db-10ab-4e90-a462-11560f180cfd"
      },
      "execution_count": null,
      "outputs": [
        {
          "output_type": "stream",
          "name": "stdout",
          "text": [
            "2\n",
            "6\n"
          ]
        }
      ]
    },
    {
      "cell_type": "code",
      "source": [
        "dq = deque([1,2,4,2,3,1,5,4,4,4,4,4,3])\n",
        "print(dq)\n",
        "# deque([1, 2, 4, 2, 3, 1, 5, 4, 4, 4, 4, 4, 3])\n",
        "dq.clear()\n",
        "print(dq)\n",
        "# deque([])"
      ],
      "metadata": {
        "colab": {
          "base_uri": "https://localhost:8080/"
        },
        "id": "w6rO-T76UUSM",
        "outputId": "69a59b94-b913-4c7e-92da-321b36db5663"
      },
      "execution_count": null,
      "outputs": [
        {
          "output_type": "stream",
          "name": "stdout",
          "text": [
            "deque([1, 2, 4, 2, 3, 1, 5, 4, 4, 4, 4, 4, 3])\n",
            "deque([])\n"
          ]
        }
      ]
    },
    {
      "cell_type": "code",
      "source": [
        "#Самостоятельное задание\n",
        "from collections import deque\n",
        "\n",
        "def brackets(line):\n",
        "    dq_line = deque()\n",
        "    for l in line:\n",
        "        if l == '(':\n",
        "            dq_line.append('(')\n",
        "        else:\n",
        "            if dq_line.count('(') != 0:\n",
        "                dq_line.pop()\n",
        "            else:\n",
        "                return False\n",
        "                \n",
        "    if dq_line.count('(') == 0:\n",
        "        return True\n",
        "    else:\n",
        "        return False\n",
        "\n",
        "\n",
        "print(brackets(\"(()())\"))\n",
        "# True\n",
        "print(brackets(\"\"))\n",
        "# True\n",
        "print(brackets(\"(()()))\"))\n",
        "# False"
      ],
      "metadata": {
        "colab": {
          "base_uri": "https://localhost:8080/"
        },
        "id": "CVGSy9nUm3Hl",
        "outputId": "75d279f4-d4b0-44cf-d64e-4092b2c6988e"
      },
      "execution_count": 8,
      "outputs": [
        {
          "output_type": "stream",
          "name": "stdout",
          "text": [
            "True\n",
            "True\n",
            "False\n"
          ]
        }
      ]
    }
  ]
}