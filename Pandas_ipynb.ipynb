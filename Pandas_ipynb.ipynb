{
  "nbformat": 4,
  "nbformat_minor": 0,
  "metadata": {
    "colab": {
      "name": "Копия блокнота \"Pandas.ipynb\"",
      "provenance": [],
      "toc_visible": true,
      "authorship_tag": "ABX9TyODVDBWYdZL+jcKdxVhCOhy",
      "include_colab_link": true
    },
    "kernelspec": {
      "name": "python3",
      "display_name": "Python 3"
    },
    "language_info": {
      "name": "python"
    }
  },
  "cells": [
    {
      "cell_type": "markdown",
      "metadata": {
        "id": "view-in-github",
        "colab_type": "text"
      },
      "source": [
        "<a href=\"https://colab.research.google.com/github/Ellana555/Skillfactory/blob/main/Pandas_ipynb.ipynb\" target=\"_parent\"><img src=\"https://colab.research.google.com/assets/colab-badge.svg\" alt=\"Open In Colab\"/></a>"
      ]
    },
    {
      "cell_type": "code",
      "execution_count": null,
      "metadata": {
        "id": "p4DRKyvUkmyv"
      },
      "outputs": [],
      "source": [
        "import pandas as pd"
      ]
    },
    {
      "cell_type": "code",
      "source": [
        "pd.__version__"
      ],
      "metadata": {
        "colab": {
          "base_uri": "https://localhost:8080/",
          "height": 35
        },
        "id": "PvdmwG3Q2C37",
        "outputId": "bf11405c-0b35-4a41-cb44-388c84a3034a"
      },
      "execution_count": null,
      "outputs": [
        {
          "output_type": "execute_result",
          "data": {
            "text/plain": [
              "'1.3.5'"
            ],
            "application/vnd.google.colaboratory.intrinsic+json": {
              "type": "string"
            }
          },
          "metadata": {},
          "execution_count": 2
        }
      ]
    },
    {
      "cell_type": "code",
      "source": [
        "print(pd.__name__)"
      ],
      "metadata": {
        "colab": {
          "base_uri": "https://localhost:8080/"
        },
        "id": "oUQqyBic1D81",
        "outputId": "5f7df886-8e6b-4154-ee42-4529e0aed4d3"
      },
      "execution_count": null,
      "outputs": [
        {
          "output_type": "stream",
          "name": "stdout",
          "text": [
            "pandas\n"
          ]
        }
      ]
    },
    {
      "cell_type": "markdown",
      "source": [
        "# Series"
      ],
      "metadata": {
        "id": "U5sCJhBq35-1"
      }
    },
    {
      "cell_type": "code",
      "source": [
        "countries = pd.Series(\n",
        "    data = ['Англия', 'Канада', 'США', 'Россия', 'Украина', 'Беларусь', 'Казахстан'],\n",
        "    index = ['UK', 'CA', 'US', 'RU', 'UA', 'BY', 'KZ'],\n",
        "    name = 'countries'\n",
        ")\n",
        "display(countries)"
      ],
      "metadata": {
        "id": "KT-HlBEK3-Pu",
        "outputId": "fd7bdb26-96bb-43e3-fa22-04f8a0d24989",
        "colab": {
          "base_uri": "https://localhost:8080/",
          "height": 156
        }
      },
      "execution_count": null,
      "outputs": [
        {
          "output_type": "display_data",
          "data": {
            "text/plain": [
              "UK       Англия\n",
              "CA       Канада\n",
              "US          США\n",
              "RU       Россия\n",
              "UA      Украина\n",
              "BY     Беларусь\n",
              "KZ    Казахстан\n",
              "Name: countries, dtype: object"
            ]
          },
          "metadata": {}
        }
      ]
    },
    {
      "cell_type": "code",
      "source": [
        "countries = pd.Series({\n",
        "    'UK': 'Англия',\n",
        "    'CA': 'Канада',\n",
        "    'US' : 'США',\n",
        "    'RU': 'Россия',\n",
        "    'UA': 'Украина',\n",
        "    'BY': 'Беларусь',\n",
        "    'KZ': 'Казахстан'},\n",
        "    name = 'countries'\n",
        ")\n",
        "display(countries)"
      ],
      "metadata": {
        "id": "oo1inXeX4AKu",
        "outputId": "82e3734a-bc7d-4a44-d173-5b78ebcf53e7",
        "colab": {
          "base_uri": "https://localhost:8080/",
          "height": 156
        }
      },
      "execution_count": null,
      "outputs": [
        {
          "output_type": "display_data",
          "data": {
            "text/plain": [
              "UK       Англия\n",
              "CA       Канада\n",
              "US          США\n",
              "RU       Россия\n",
              "UA      Украина\n",
              "BY     Беларусь\n",
              "KZ    Казахстан\n",
              "Name: countries, dtype: object"
            ]
          },
          "metadata": {}
        }
      ]
    },
    {
      "cell_type": "code",
      "source": [
        "print(countries.loc['US'])\n",
        "# США"
      ],
      "metadata": {
        "id": "eXDGNpPy4DOu",
        "outputId": "07992df7-e5ae-4d01-ea29-b35543cb1fda",
        "colab": {
          "base_uri": "https://localhost:8080/"
        }
      },
      "execution_count": null,
      "outputs": [
        {
          "output_type": "stream",
          "name": "stdout",
          "text": [
            "США\n"
          ]
        }
      ]
    },
    {
      "cell_type": "code",
      "source": [
        "print(countries.loc[['US', 'RU', 'UK']])"
      ],
      "metadata": {
        "id": "yTXsbf1jNTqt",
        "outputId": "15936ca5-0e6c-484e-ab9f-37df6bc4b662",
        "colab": {
          "base_uri": "https://localhost:8080/"
        }
      },
      "execution_count": null,
      "outputs": [
        {
          "output_type": "stream",
          "name": "stdout",
          "text": [
            "US       США\n",
            "RU    Россия\n",
            "UK    Англия\n",
            "Name: countries, dtype: object\n"
          ]
        }
      ]
    },
    {
      "cell_type": "code",
      "source": [
        "print(countries.iloc[6])\n",
        "# Казахстан"
      ],
      "metadata": {
        "id": "wxMZ--X1NWNr",
        "outputId": "0e89207e-e866-4367-8240-b7acf87f854e",
        "colab": {
          "base_uri": "https://localhost:8080/"
        }
      },
      "execution_count": null,
      "outputs": [
        {
          "output_type": "stream",
          "name": "stdout",
          "text": [
            "Казахстан\n"
          ]
        }
      ]
    },
    {
      "cell_type": "code",
      "source": [
        "print(countries.iloc[1:4])"
      ],
      "metadata": {
        "id": "EjBBM7JtNYAb",
        "outputId": "d5b6eac7-ee90-4d7e-bc70-e8783ce9b4d5",
        "colab": {
          "base_uri": "https://localhost:8080/"
        }
      },
      "execution_count": null,
      "outputs": [
        {
          "output_type": "stream",
          "name": "stdout",
          "text": [
            "CA    Канада\n",
            "US       США\n",
            "RU    Россия\n",
            "Name: countries, dtype: object\n"
          ]
        }
      ]
    },
    {
      "cell_type": "code",
      "source": [
        "names=['chlorhexidine', 'cyntomycin', 'afobazol']\n",
        "counts=[15, 18, 7]"
      ],
      "metadata": {
        "id": "iP1HrAJtZFuR"
      },
      "execution_count": null,
      "outputs": []
    },
    {
      "cell_type": "code",
      "source": [
        "#Напишите функцию create_medications(names, counts), \n",
        "#создающую Series medications, индексами которого \n",
        "#являются названия лекарств names, а значениями — их количество в партии counts.\n",
        "\n",
        "#Также напишите функцию get_percent(medications, name), \n",
        "#которая возвращает долю товара с именем name от общего \n",
        "#количества товаров в партии в процентах.\n",
        "\n",
        "import pandas as pd\n",
        "import numpy as np\n",
        "\n",
        "def create_medications(names, counts):\n",
        "    medications = pd.Series(\n",
        "        data = counts,\n",
        "        index = [names],\n",
        "        name = 'medications')\n",
        "    global sum_med\n",
        "    sum_med = np.sum(counts)\n",
        "    return medications\n",
        "\n",
        "def get_percent(medications, name):\n",
        "    count_name = medications.loc[name]\n",
        "    procent = count_name / (sum_med / 100)\n",
        "    return procent\n",
        "\n",
        "\n",
        "if __name__ == '__main__':\n",
        "    names=['chlorhexidine', 'cyntomycin', 'afobazol']\n",
        "    counts=[15, 18, 7]\n",
        "    medications = create_medications(names, counts)\n",
        "    print(get_percent(medications, \"chlorhexidine\")) #37.5\n",
        "\n",
        "names=['chlorhexidine', 'cyntomycin', 'afobazol']\n",
        "counts=[15, 18, 7]"
      ],
      "metadata": {
        "id": "uPCgez0omTrV",
        "outputId": "b4ac8f7e-416f-4b06-96e2-8575a66f13a0",
        "colab": {
          "base_uri": "https://localhost:8080/"
        }
      },
      "execution_count": null,
      "outputs": [
        {
          "output_type": "stream",
          "name": "stdout",
          "text": [
            "chlorhexidine    37.5\n",
            "Name: medications, dtype: float64\n"
          ]
        }
      ]
    },
    {
      "cell_type": "code",
      "source": [
        ""
      ],
      "metadata": {
        "id": "Pg0d7VIky6NO"
      },
      "execution_count": null,
      "outputs": []
    }
  ]
}