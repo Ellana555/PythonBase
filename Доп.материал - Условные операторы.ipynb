{
  "nbformat": 4,
  "nbformat_minor": 0,
  "metadata": {
    "colab": {
      "provenance": [],
      "authorship_tag": "ABX9TyPTEpHPhzxkL77RqbmFF8WL",
      "include_colab_link": true
    },
    "kernelspec": {
      "name": "python3",
      "display_name": "Python 3"
    },
    "language_info": {
      "name": "python"
    }
  },
  "cells": [
    {
      "cell_type": "markdown",
      "metadata": {
        "id": "view-in-github",
        "colab_type": "text"
      },
      "source": [
        "<a href=\"https://colab.research.google.com/github/Ellana555/Skillfactory/blob/main/%D0%94%D0%BE%D0%BF.%D0%BC%D0%B0%D1%82%D0%B5%D1%80%D0%B8%D0%B0%D0%BB%20-%20%D0%A3%D1%81%D0%BB%D0%BE%D0%B2%D0%BD%D1%8B%D0%B5%20%D0%BE%D0%BF%D0%B5%D1%80%D0%B0%D1%82%D0%BE%D1%80%D1%8B.ipynb\" target=\"_parent\"><img src=\"https://colab.research.google.com/assets/colab-badge.svg\" alt=\"Open In Colab\"/></a>"
      ]
    },
    {
      "cell_type": "code",
      "execution_count": 1,
      "metadata": {
        "id": "E1o-r3j1Ss6o"
      },
      "outputs": [],
      "source": [
        "var = 0\n",
        "my_var = 2\n",
        "VAR = 3\n",
        "Var1 = 4"
      ]
    },
    {
      "cell_type": "code",
      "source": [
        "var = ('a' in ['a', 'b', 'c'])\n",
        "print (var)"
      ],
      "metadata": {
        "colab": {
          "base_uri": "https://localhost:8080/"
        },
        "id": "oNfhrrLIVCZa",
        "outputId": "d534b428-eb64-4027-e709-5a4c2d25ac6e"
      },
      "execution_count": 2,
      "outputs": [
        {
          "output_type": "stream",
          "name": "stdout",
          "text": [
            "True\n"
          ]
        }
      ]
    },
    {
      "cell_type": "code",
      "source": [
        "var = ['a', 'f', 'g']\n",
        "var.extend(['a', 'b', 'c'])\n",
        "print(var)"
      ],
      "metadata": {
        "colab": {
          "base_uri": "https://localhost:8080/"
        },
        "id": "ItPDrcVQVIXB",
        "outputId": "2387551c-5ce5-4145-c06d-db7215d586c6"
      },
      "execution_count": 4,
      "outputs": [
        {
          "output_type": "stream",
          "name": "stdout",
          "text": [
            "['a', 'f', 'g', 'a', 'b', 'c']\n"
          ]
        }
      ]
    },
    {
      "cell_type": "code",
      "source": [
        "# Узнаем кодировку символа 'F' в Unicode\n",
        "print(ord('F'))\n",
        "## 70"
      ],
      "metadata": {
        "colab": {
          "base_uri": "https://localhost:8080/"
        },
        "id": "-yugJXI_yGYl",
        "outputId": "dffe8dd8-d843-4b3e-ab1f-01c398e3e01a"
      },
      "execution_count": 5,
      "outputs": [
        {
          "output_type": "stream",
          "name": "stdout",
          "text": [
            "70\n"
          ]
        }
      ]
    },
    {
      "cell_type": "code",
      "source": [
        "# Создаём 3 переменных с именами пользователей\n",
        "name_user_1029 = 'Andrey'\n",
        "name_user_1040 = 'Vladimir'\n",
        "name_user_1042 = 'Andrey'\n",
        "\n",
        "\n",
        "# Сравниваем имена пользователей друг с другом\n",
        "print(name_user_1029 == name_user_1040)\n",
        "## False\n",
        "print(name_user_1029 == name_user_1042)\n",
        "## True"
      ],
      "metadata": {
        "colab": {
          "base_uri": "https://localhost:8080/"
        },
        "id": "0ZtOaWmyyX0F",
        "outputId": "30ec19d5-36c3-4957-9c10-677be326a18c"
      },
      "execution_count": 6,
      "outputs": [
        {
          "output_type": "stream",
          "name": "stdout",
          "text": [
            "False\n",
            "True\n"
          ]
        }
      ]
    },
    {
      "cell_type": "code",
      "source": [
        "languages_list_1 = ['Python', 'C++', 'C#', 'Java']\n",
        "languages_list_2 = ['Python', 'C++', 'C#', 'Java']\n",
        "# Проверяем их равенство\n",
        "print(languages_list_1 == languages_list_2)\n",
        "## True"
      ],
      "metadata": {
        "colab": {
          "base_uri": "https://localhost:8080/"
        },
        "id": "9aZZJCWU3zSw",
        "outputId": "46aeb6bd-a665-4dbb-ba63-0163f0270493"
      },
      "execution_count": 7,
      "outputs": [
        {
          "output_type": "stream",
          "name": "stdout",
          "text": [
            "True\n"
          ]
        }
      ]
    },
    {
      "cell_type": "code",
      "source": [
        "# Создаём 2 идентичных словаря, различающихся порядком записи ключей\n",
        "store_dict_1 = {'Яблоки': 158, 'Мандарины': 178, 'Хлеб': 56}\n",
        "store_dict_2 = {'Хлеб': 56, 'Яблоки': 158, 'Мандарины': 178}\n",
        "# Проверяем их равенство\n",
        "print(store_dict_1 == store_dict_2)\n",
        "## True\n",
        "\n"
      ],
      "metadata": {
        "colab": {
          "base_uri": "https://localhost:8080/"
        },
        "id": "ieRf44OS4HDx",
        "outputId": "198738f6-3daf-48c0-bd23-41050e21c678"
      },
      "execution_count": 8,
      "outputs": [
        {
          "output_type": "stream",
          "name": "stdout",
          "text": [
            "True\n"
          ]
        }
      ]
    },
    {
      "cell_type": "code",
      "source": [
        "## Введите свое решение ниже\n",
        "\n",
        "# Проверка на палиндром \n",
        "target_string = target_string.lower() ##Приводим к одному регистру\n",
        "target_string = target_string.replace(' ', '') ##Заменяем пробелы\n",
        "\n",
        "result = (target_string == target_string[::-1]) ##проверяем\n"
      ],
      "metadata": {
        "id": "QF71lB_W6T9a"
      },
      "execution_count": 28,
      "outputs": []
    },
    {
      "cell_type": "code",
      "source": [
        "a = 1\n",
        "# Создаём первое условие\n",
        "cond1 = 0 < a \n",
        "# Создаём второе условие\n",
        "cond2 = 4 > a\n",
        "# Проверяем, будут ли выполняться два условия одновременно\n",
        "print(cond1 and cond2)\n",
        "## True"
      ],
      "metadata": {
        "colab": {
          "base_uri": "https://localhost:8080/"
        },
        "id": "th9vKColuslM",
        "outputId": "c9bff792-bd12-46e7-dfa0-a9d2656aa97b"
      },
      "execution_count": 10,
      "outputs": [
        {
          "output_type": "stream",
          "name": "stdout",
          "text": [
            "True\n"
          ]
        }
      ]
    },
    {
      "cell_type": "code",
      "source": [
        "## Проверка содержится ли символ в слове\n",
        "sym = 't'\n",
        "# Проверяем, содержится ли символ в строке \"python\"\n",
        "cond3 = sym in \"python\"\n",
        "# Проверяем, содержится ли символ в строке \"django\"\n",
        "cond4 = sym in \"django\"\n",
        "# Проверяем, содержится ли символ в обеих строках\n",
        "print(cond3 and cond4)\n",
        "## False"
      ],
      "metadata": {
        "colab": {
          "base_uri": "https://localhost:8080/"
        },
        "id": "f04W1QCkuUV7",
        "outputId": "c4a33645-a623-4926-9da9-b16deb21feae"
      },
      "execution_count": 12,
      "outputs": [
        {
          "output_type": "stream",
          "name": "stdout",
          "text": [
            "False\n"
          ]
        }
      ]
    },
    {
      "cell_type": "code",
      "source": [
        "word1 = 'Institute'\n",
        "word2 = 'University'\n",
        "target_string = \"I graduated from the Moscow Aviation Institute in 2015, after which I got a job at…\"\n",
        "# Проверяем, содержится хотя бы одна из строк word1 или word2 в строке target_string\n",
        "# Для проверки принадлежности используем оператор in\n",
        "print((word1 in target_string) or (word2 in target_string))\n",
        "## True"
      ],
      "metadata": {
        "colab": {
          "base_uri": "https://localhost:8080/"
        },
        "id": "shdSK9o7vztS",
        "outputId": "ae5f1c6d-5315-4227-b99c-3b4a1f8042c2"
      },
      "execution_count": 13,
      "outputs": [
        {
          "output_type": "stream",
          "name": "stdout",
          "text": [
            "True\n"
          ]
        }
      ]
    },
    {
      "cell_type": "code",
      "source": [
        "x = 10\n",
        "y = 100\n",
        "z = (x % 2 == 0) and (y >= 100)\n",
        "v = (x % 2 == 0) or (y >= 100)\n",
        "w = not(x % 2 == 0) or not(y >= 100)\n",
        "print (z, v, w)"
      ],
      "metadata": {
        "colab": {
          "base_uri": "https://localhost:8080/"
        },
        "id": "Us6Cydcmw36A",
        "outputId": "ade289f9-cd81-4964-a81c-9dee72767492"
      },
      "execution_count": 18,
      "outputs": [
        {
          "output_type": "stream",
          "name": "stdout",
          "text": [
            "True True False\n"
          ]
        }
      ]
    },
    {
      "cell_type": "code",
      "source": [
        "diagnosis_1, diagnosis_2, diagnosis_3 = 'yes', 'yes', 'yes'\n",
        "if (diagnosis_1 == 'yes' or diagnosis_2 == 'yes'\n",
        "    or diagnosis_3 == 'yes'):\n",
        "    result = True\n",
        "else:\n",
        "    result = False  \n",
        "print(result)"
      ],
      "metadata": {
        "colab": {
          "base_uri": "https://localhost:8080/"
        },
        "id": "JqZqVhUDEvre",
        "outputId": "bffd47ad-ee4e-415f-87eb-d1eeda4f1730"
      },
      "execution_count": 23,
      "outputs": [
        {
          "output_type": "stream",
          "name": "stdout",
          "text": [
            "True\n"
          ]
        }
      ]
    },
    {
      "cell_type": "code",
      "source": [
        "a = 'Hello world!'\n",
        "print(id(a))\n",
        "## 1887879822657"
      ],
      "metadata": {
        "colab": {
          "base_uri": "https://localhost:8080/"
        },
        "id": "l-O5sOY2FYPW",
        "outputId": "0013b61d-b86f-44dd-8e93-c3fb9fddb7ed"
      },
      "execution_count": 24,
      "outputs": [
        {
          "output_type": "stream",
          "name": "stdout",
          "text": [
            "140257530906608\n"
          ]
        }
      ]
    },
    {
      "cell_type": "code",
      "source": [
        "a = 'simple string'\n",
        "b = a ##ссылается на первую переменную\n",
        "# Смотрим на идентификаторы переменных a и b\n",
        "print(id(a), id(b))\n",
        "## 140227942415216 140227942415216\n",
        "print(a is b)"
      ],
      "metadata": {
        "colab": {
          "base_uri": "https://localhost:8080/"
        },
        "id": "W-nniC1pFfyu",
        "outputId": "cf5adeca-d722-4905-dfaf-7c6d337628a9"
      },
      "execution_count": 27,
      "outputs": [
        {
          "output_type": "stream",
          "name": "stdout",
          "text": [
            "140257453927984 140257453927984\n",
            "True\n"
          ]
        }
      ]
    },
    {
      "cell_type": "markdown",
      "source": [
        "Практические примеры"
      ],
      "metadata": {
        "id": "vXXXUjntJsxg"
      }
    },
    {
      "cell_type": "code",
      "source": [
        "#Пусть задан словарь покупок за период с 10 по 12 октября 2022 года. \n",
        "#Ключами этого словаря являются даты, а значениями — списки с идентификаторами \n",
        "#заказов, поступивших в этот день\n",
        "orders = {\n",
        "    '2022-10-10': ['F124', 'D89D', '142L'],\n",
        "    '2022-10-11': ['H241', 'OR24', 'BE14', '348F'],\n",
        "    '2022-10-12': ['H429', 'JAS2']\n",
        "}"
      ],
      "metadata": {
        "id": "rAdjg_YNJvYg"
      },
      "execution_count": 29,
      "outputs": []
    },
    {
      "cell_type": "code",
      "source": [
        "target_order = 'BE14'\n",
        "# Проверяем вхождение строки target_order в список, хранящийся по ключу '2022-10-10'\n",
        "print(target_order in orders['2022-10-10'])\n",
        "## False\n",
        "# Проверяем вхождение строку target_order в список, хранящийся по ключу '2022-10-11'\n",
        "print(target_order in orders['2022-10-11'])\n",
        "## True\n",
        "\n",
        "# Проверяем вхождение строку target_order в список, хранящийся по ключу '2022-10-12'\n",
        "print(target_order in orders['2022-10-12'])\n",
        "## False"
      ],
      "metadata": {
        "colab": {
          "base_uri": "https://localhost:8080/"
        },
        "id": "kgqZZu4TKR1D",
        "outputId": "a91b6960-8d9d-48e8-82c6-3c4e4774f3ac"
      },
      "execution_count": 31,
      "outputs": [
        {
          "output_type": "stream",
          "name": "stdout",
          "text": [
            "False\n",
            "True\n",
            "False\n"
          ]
        }
      ]
    },
    {
      "cell_type": "code",
      "source": [
        "# Объединяем условия для каждого заказа в одно\n",
        "result = (target_order in orders['2022-10-10']) or \\\n",
        "         (target_order in orders['2022-10-11']) or \\\n",
        "         (target_order in orders['2022-10-12'])\n",
        "print(result)\n",
        "\n",
        "## True"
      ],
      "metadata": {
        "colab": {
          "base_uri": "https://localhost:8080/"
        },
        "id": "P60bwuk3K4Mp",
        "outputId": "9f5e1fb1-0323-49a6-ce73-8dc4380750e2"
      },
      "execution_count": 34,
      "outputs": [
        {
          "output_type": "stream",
          "name": "stdout",
          "text": [
            "True\n"
          ]
        }
      ]
    },
    {
      "cell_type": "code",
      "source": [
        "message = 14093530013530593\n",
        "print(5 not in message[:6])\n",
        "##Индексы необходимо сделать, чтобы была последовательность\n",
        "\n"
      ],
      "metadata": {
        "colab": {
          "base_uri": "https://localhost:8080/",
          "height": 223
        },
        "id": "7EP8CI3FNybq",
        "outputId": "e9b64443-9dd1-44de-89ab-942b36359c72"
      },
      "execution_count": 36,
      "outputs": [
        {
          "output_type": "error",
          "ename": "TypeError",
          "evalue": "ignored",
          "traceback": [
            "\u001b[0;31m---------------------------------------------------------------------------\u001b[0m",
            "\u001b[0;31mTypeError\u001b[0m                                 Traceback (most recent call last)",
            "\u001b[0;32m<ipython-input-36-a3c733a80a03>\u001b[0m in \u001b[0;36m<module>\u001b[0;34m\u001b[0m\n\u001b[1;32m      1\u001b[0m \u001b[0mmessage\u001b[0m \u001b[0;34m=\u001b[0m \u001b[0;36m14093530013530593\u001b[0m\u001b[0;34m\u001b[0m\u001b[0;34m\u001b[0m\u001b[0m\n\u001b[0;32m----> 2\u001b[0;31m \u001b[0mprint\u001b[0m\u001b[0;34m(\u001b[0m\u001b[0;36m5\u001b[0m \u001b[0;32mnot\u001b[0m \u001b[0;32min\u001b[0m \u001b[0mmessage\u001b[0m\u001b[0;34m[\u001b[0m\u001b[0;34m:\u001b[0m\u001b[0;36m6\u001b[0m\u001b[0;34m]\u001b[0m\u001b[0;34m)\u001b[0m\u001b[0;34m\u001b[0m\u001b[0;34m\u001b[0m\u001b[0m\n\u001b[0m\u001b[1;32m      3\u001b[0m \u001b[0;31m##Индексы необходимо сделать, чтобы была последовательность\u001b[0m\u001b[0;34m\u001b[0m\u001b[0;34m\u001b[0m\u001b[0;34m\u001b[0m\u001b[0m\n\u001b[1;32m      4\u001b[0m \u001b[0;34m\u001b[0m\u001b[0m\n",
            "\u001b[0;31mTypeError\u001b[0m: 'int' object is not subscriptable"
          ]
        }
      ]
    },
    {
      "cell_type": "code",
      "source": [
        "print(5 not in str(message)[:6])\n"
      ],
      "metadata": {
        "colab": {
          "base_uri": "https://localhost:8080/",
          "height": 169
        },
        "id": "HQbOEyoOOYca",
        "outputId": "6f022c0b-e811-4418-dc01-e51492cf463a"
      },
      "execution_count": 37,
      "outputs": [
        {
          "output_type": "error",
          "ename": "TypeError",
          "evalue": "ignored",
          "traceback": [
            "\u001b[0;31m---------------------------------------------------------------------------\u001b[0m",
            "\u001b[0;31mTypeError\u001b[0m                                 Traceback (most recent call last)",
            "\u001b[0;32m<ipython-input-37-4ba664fbeae8>\u001b[0m in \u001b[0;36m<module>\u001b[0;34m\u001b[0m\n\u001b[0;32m----> 1\u001b[0;31m \u001b[0mprint\u001b[0m\u001b[0;34m(\u001b[0m\u001b[0;36m5\u001b[0m \u001b[0;32mnot\u001b[0m \u001b[0;32min\u001b[0m \u001b[0mstr\u001b[0m\u001b[0;34m(\u001b[0m\u001b[0mmessage\u001b[0m\u001b[0;34m)\u001b[0m\u001b[0;34m[\u001b[0m\u001b[0;34m:\u001b[0m\u001b[0;36m6\u001b[0m\u001b[0;34m]\u001b[0m\u001b[0;34m)\u001b[0m\u001b[0;34m\u001b[0m\u001b[0;34m\u001b[0m\u001b[0m\n\u001b[0m",
            "\u001b[0;31mTypeError\u001b[0m: 'in <string>' requires string as left operand, not int"
          ]
        }
      ]
    },
    {
      "cell_type": "code",
      "source": [
        "message_is_useful = '5' not in str(message)[:6]\n",
        "print(message_is_useful)\n",
        "## False, в первых шести ищем '5'"
      ],
      "metadata": {
        "colab": {
          "base_uri": "https://localhost:8080/"
        },
        "id": "Iv7JYWrEOi6S",
        "outputId": "60eb22c5-c13c-488e-8c25-7daf1ccb1c65"
      },
      "execution_count": 38,
      "outputs": [
        {
          "output_type": "stream",
          "name": "stdout",
          "text": [
            "False\n"
          ]
        }
      ]
    },
    {
      "cell_type": "code",
      "source": [
        "## Введите свое решение ниже, проверка вхождения в пределы шахматной доски\n",
        "x_shah = 'ABCDEFGH'\n",
        "y_shah = '12345678'\n",
        "x, y = 'K', 1\n",
        "move_is_correct = x in (x_shah) and \\\n",
        "    str(y) in (y_shah)\n",
        "print (move_is_correct)"
      ],
      "metadata": {
        "colab": {
          "base_uri": "https://localhost:8080/"
        },
        "id": "Hg6aOBP2To8M",
        "outputId": "eb40d022-2f67-448b-cfc4-194a50546a29"
      },
      "execution_count": 41,
      "outputs": [
        {
          "output_type": "stream",
          "name": "stdout",
          "text": [
            "False\n"
          ]
        }
      ]
    },
    {
      "cell_type": "markdown",
      "source": [
        "Проверка делимости чисел"
      ],
      "metadata": {
        "id": "MDk83FkgUVY8"
      }
    },
    {
      "cell_type": "code",
      "source": [
        "available_packages = 105\n",
        "total_count = 1677"
      ],
      "metadata": {
        "id": "xmCpGKBZUbSO"
      },
      "execution_count": 42,
      "outputs": []
    },
    {
      "cell_type": "code",
      "source": [
        "# Проверяем, что все карандаши удастся распределить по упаковкам\n",
        "print(total_count % 13 == 0)\n",
        "## True"
      ],
      "metadata": {
        "colab": {
          "base_uri": "https://localhost:8080/"
        },
        "id": "mtl1u30qbnjL",
        "outputId": "db24ce62-4292-4265-f6b5-0fc3dc54ff7a"
      },
      "execution_count": 43,
      "outputs": [
        {
          "output_type": "stream",
          "name": "stdout",
          "text": [
            "True\n"
          ]
        }
      ]
    },
    {
      "cell_type": "code",
      "source": [
        "# Проверяем, достаточно ли у нас упаковок на складе\n",
        "print(total_count // 13 <= available_packages)\n",
        "## False"
      ],
      "metadata": {
        "colab": {
          "base_uri": "https://localhost:8080/"
        },
        "id": "cyRU5rcUcwa0",
        "outputId": "a3853056-ee92-411b-f7d2-8bc20cf9a4c1"
      },
      "execution_count": 44,
      "outputs": [
        {
          "output_type": "stream",
          "name": "stdout",
          "text": [
            "False\n"
          ]
        }
      ]
    },
    {
      "cell_type": "code",
      "source": [
        "# Создаём переменные под каждое условие\n",
        "condition_1 = total_count % 13 == 0\n",
        "condition_2 = total_count // 13 < available_packages\n",
        "# Проверяем, что условия выполняются одновременно\n",
        "result = condition_1 and condition_2\n",
        "print(result)\n",
        "## False"
      ],
      "metadata": {
        "colab": {
          "base_uri": "https://localhost:8080/"
        },
        "id": "B58RqkTYc0VA",
        "outputId": "7356576d-b52c-4784-df8d-f60ab863dc3b"
      },
      "execution_count": 45,
      "outputs": [
        {
          "output_type": "stream",
          "name": "stdout",
          "text": [
            "False\n"
          ]
        }
      ]
    },
    {
      "cell_type": "code",
      "source": [
        "## Введите свое решение ниже\n",
        "N = 45901\n",
        "first_is_even = int(str(N)[:1]) % 2 == 0 \n",
        "print (first_is_even)"
      ],
      "metadata": {
        "colab": {
          "base_uri": "https://localhost:8080/"
        },
        "id": "UV6licpKfCuc",
        "outputId": "e6c07d24-96e1-49f4-fdc4-86b677feacec"
      },
      "execution_count": 46,
      "outputs": [
        {
          "output_type": "stream",
          "name": "stdout",
          "text": [
            "True\n"
          ]
        }
      ]
    },
    {
      "cell_type": "code",
      "source": [
        "## Проверка на високосный год\n",
        "year = 2000\n",
        "year_number1 = year % 400 == 0\n",
        "year_number2 = year % 4 == 0 and year % 100 != 0\n",
        "year_is_leap = year_number1 or year_number2"
      ],
      "metadata": {
        "id": "zDkMNio-f_Iq"
      },
      "execution_count": 47,
      "outputs": []
    },
    {
      "cell_type": "code",
      "source": [
        "## шоколадка\n",
        "n, m, k = 5, 4, 3\n",
        "result  = n * m > k and ((k % n == 0) or (k % m == 0))\n",
        "print (result)"
      ],
      "metadata": {
        "colab": {
          "base_uri": "https://localhost:8080/"
        },
        "id": "yN84q4zRsHUM",
        "outputId": "12023e63-00a2-44fd-f518-7ebfe6d62097"
      },
      "execution_count": 49,
      "outputs": [
        {
          "output_type": "stream",
          "name": "stdout",
          "text": [
            "False\n"
          ]
        }
      ]
    }
  ]
}