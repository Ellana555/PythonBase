{
  "nbformat": 4,
  "nbformat_minor": 0,
  "metadata": {
    "colab": {
      "provenance": [],
      "authorship_tag": "ABX9TyOlzwZr1Zr7ehs9ADCkhN/w",
      "include_colab_link": true
    },
    "kernelspec": {
      "name": "python3",
      "display_name": "Python 3"
    },
    "language_info": {
      "name": "python"
    }
  },
  "cells": [
    {
      "cell_type": "markdown",
      "metadata": {
        "id": "view-in-github",
        "colab_type": "text"
      },
      "source": [
        "<a href=\"https://colab.research.google.com/github/Ellana555/Skillfactory/blob/main/%D0%94%D0%BE%D0%BF.%D0%BC%D0%B0%D1%82%D0%B5%D1%80%D0%B8%D0%B0%D0%BB%20-%20%D0%A3%D1%81%D0%BB%D0%BE%D0%B2%D0%BD%D1%8B%D0%B5%20%D0%BE%D0%BF%D0%B5%D1%80%D0%B0%D1%82%D0%BE%D1%80%D1%8B.ipynb\" target=\"_parent\"><img src=\"https://colab.research.google.com/assets/colab-badge.svg\" alt=\"Open In Colab\"/></a>"
      ]
    },
    {
      "cell_type": "code",
      "execution_count": 6,
      "metadata": {
        "id": "E1o-r3j1Ss6o"
      },
      "outputs": [],
      "source": [
        "var = 0\n",
        "my_var = 2\n",
        "VAR = 3\n",
        "Var1 = 4"
      ]
    },
    {
      "cell_type": "code",
      "source": [
        "var = ('a' in ['a', 'b', 'c'])\n",
        "print (var)"
      ],
      "metadata": {
        "colab": {
          "base_uri": "https://localhost:8080/"
        },
        "id": "oNfhrrLIVCZa",
        "outputId": "13009103-617e-4823-cb7a-d4ebec177381"
      },
      "execution_count": 8,
      "outputs": [
        {
          "output_type": "stream",
          "name": "stdout",
          "text": [
            "True\n"
          ]
        }
      ]
    },
    {
      "cell_type": "code",
      "source": [
        "var = ['a', 'f', 'g']\n",
        "var.extend(['a', 'b', 'c'])\n",
        "print(var)"
      ],
      "metadata": {
        "colab": {
          "base_uri": "https://localhost:8080/"
        },
        "id": "ItPDrcVQVIXB",
        "outputId": "28f8077a-92cc-4cbf-9cdc-2dc9d06dfeee"
      },
      "execution_count": 10,
      "outputs": [
        {
          "output_type": "stream",
          "name": "stdout",
          "text": [
            "['a', 'f', 'g', 'a', 'b', 'c']\n"
          ]
        }
      ]
    },
    {
      "cell_type": "code",
      "source": [
        "# Узнаем кодировку символа 'F' в Unicode\n",
        "print(ord('F'))\n",
        "## 70"
      ],
      "metadata": {
        "colab": {
          "base_uri": "https://localhost:8080/"
        },
        "id": "-yugJXI_yGYl",
        "outputId": "dedd9f4e-3d74-4efb-bb8a-32b6f9e4f1d0"
      },
      "execution_count": 11,
      "outputs": [
        {
          "output_type": "stream",
          "name": "stdout",
          "text": [
            "70\n"
          ]
        }
      ]
    },
    {
      "cell_type": "code",
      "source": [
        "# Создаём 3 переменных с именами пользователей\n",
        "name_user_1029 = 'Andrey'\n",
        "name_user_1040 = 'Vladimir'\n",
        "name_user_1042 = 'Andrey'\n",
        "\n",
        "\n",
        "# Сравниваем имена пользователей друг с другом\n",
        "print(name_user_1029 == name_user_1040)\n",
        "## False\n",
        "print(name_user_1029 == name_user_1042)\n",
        "## True"
      ],
      "metadata": {
        "colab": {
          "base_uri": "https://localhost:8080/"
        },
        "id": "0ZtOaWmyyX0F",
        "outputId": "700e6f71-8f83-4718-8d0e-95f5ab0107b2"
      },
      "execution_count": 12,
      "outputs": [
        {
          "output_type": "stream",
          "name": "stdout",
          "text": [
            "False\n",
            "True\n"
          ]
        }
      ]
    },
    {
      "cell_type": "code",
      "source": [
        "languages_list_1 = ['Python', 'C++', 'C#', 'Java']\n",
        "languages_list_2 = ['Python', 'C++', 'C#', 'Java']\n",
        "# Проверяем их равенство\n",
        "print(languages_list_1 == languages_list_2)\n",
        "## True"
      ],
      "metadata": {
        "colab": {
          "base_uri": "https://localhost:8080/"
        },
        "id": "9aZZJCWU3zSw",
        "outputId": "f2606368-f162-48aa-d964-0bc06d919a3f"
      },
      "execution_count": 13,
      "outputs": [
        {
          "output_type": "stream",
          "name": "stdout",
          "text": [
            "True\n"
          ]
        }
      ]
    },
    {
      "cell_type": "code",
      "source": [
        "# Создаём 2 идентичных словаря, различающихся порядком записи ключей\n",
        "store_dict_1 = {'Яблоки': 158, 'Мандарины': 178, 'Хлеб': 56}\n",
        "store_dict_2 = {'Хлеб': 56, 'Яблоки': 158, 'Мандарины': 178}\n",
        "# Проверяем их равенство\n",
        "print(store_dict_1 == store_dict_2)\n",
        "## True\n",
        "\n"
      ],
      "metadata": {
        "colab": {
          "base_uri": "https://localhost:8080/"
        },
        "id": "ieRf44OS4HDx",
        "outputId": "a8a3ca0d-7ddc-4061-daec-9531dbffaef8"
      },
      "execution_count": 15,
      "outputs": [
        {
          "output_type": "stream",
          "name": "stdout",
          "text": [
            "True\n"
          ]
        }
      ]
    },
    {
      "cell_type": "code",
      "source": [
        "# Проверка на палиндром \n",
        "target_string = 'коту тащат уток'\n",
        "target_string = target_string.lower() ##Приводим к одному регистру\n",
        "target_string = target_string.replace(' ', '') ##Заменяем пробелы\n",
        "\n",
        "print(target_string == target_string[::-1]) ##проверяем\n"
      ],
      "metadata": {
        "colab": {
          "base_uri": "https://localhost:8080/"
        },
        "id": "QF71lB_W6T9a",
        "outputId": "bf6aa9b1-d942-462c-ae07-7cbfa8dc8741"
      },
      "execution_count": 16,
      "outputs": [
        {
          "output_type": "stream",
          "name": "stdout",
          "text": [
            "True\n"
          ]
        }
      ]
    }
  ]
}